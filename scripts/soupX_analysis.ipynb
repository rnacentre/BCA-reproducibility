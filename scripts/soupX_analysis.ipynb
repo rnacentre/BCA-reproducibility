{
 "cells": [
  {
   "cell_type": "code",
   "execution_count": null,
   "id": "61c9cc5a-0ff1-4c7c-bc87-d584794b030e",
   "metadata": {},
   "outputs": [],
   "source": []
  },
  {
   "cell_type": "code",
   "execution_count": 2,
   "id": "269be040-510d-44c1-a429-e72159b25342",
   "metadata": {},
   "outputs": [
    {
     "name": "stdout",
     "output_type": "stream",
     "text": [
      "%pylab is deprecated, use %matplotlib inline and import the required libraries.\n",
      "Populating the interactive namespace from numpy and matplotlib\n"
     ]
    }
   ],
   "source": [
    "%pylab inline\n",
    "\n",
    "import warnings\n",
    "warnings.filterwarnings(\"ignore\")\n",
    "\n",
    "#from SCCAF import *\n",
    "# import scvi\n",
    "\n",
    "from glob import iglob\n",
    "from tqdm import tqdm\n",
    "import scanpy as sc"
   ]
  },
  {
   "cell_type": "code",
   "execution_count": 3,
   "id": "d6411cfa-1f58-4a6e-b57a-37e591794cba",
   "metadata": {},
   "outputs": [],
   "source": [
    "import matplotlib as mpl\n",
    "sc.set_figure_params(scanpy=True, fontsize=14,facecolor=None,frameon=False,transparent=True)\n",
    "mpl.rcParams['axes.spines.top'] = True\n",
    "mpl.rcParams['axes.spines.right'] = True\n",
    "mpl.rcParams['axes.grid'] = False"
   ]
  },
  {
   "cell_type": "code",
   "execution_count": 4,
   "id": "3c308090-f40b-4cff-870c-c954f07e595f",
   "metadata": {},
   "outputs": [],
   "source": [
    "def cluster_small_multiples(\n",
    "    adata, clust_key, frameon=False, legend_loc=None, **kwargs\n",
    "):\n",
    "    tmp = adata.copy()\n",
    "\n",
    "    for i, clust in enumerate(adata.obs[clust_key].cat.categories):\n",
    "        tmp.obs[clust] = adata.obs[clust_key].isin([clust]).astype(\"category\")\n",
    "        try:\n",
    "            tmp.uns[clust + \"_colors\"] = [\"#d3d3d3\", adata.uns[clust_key + \"_colors\"][i]]\n",
    "        except:\n",
    "            pass\n",
    "\n",
    "    sc.pl.umap(\n",
    "        tmp,\n",
    "        groups=tmp.obs[clust].cat.categories[1:].values,\n",
    "        color= adata.obs[clust_key].cat.categories.tolist(),\n",
    "        frameon=frameon,\n",
    "        legend_loc=legend_loc,\n",
    "        **kwargs,\n",
    "    )"
   ]
  },
  {
   "cell_type": "markdown",
   "id": "2e2ac181-6e9a-4732-816e-2aee257afcdb",
   "metadata": {},
   "source": [
    "# Read in"
   ]
  },
  {
   "cell_type": "code",
   "execution_count": 4,
   "id": "4cc4d070-4089-42c3-bd09-8ea212817a38",
   "metadata": {},
   "outputs": [],
   "source": [
    "ad=sc.read(\"data/franjic_2021/soupx/SRR16928876_GSM5687879_HSB231_EC/matrix.mtx\")"
   ]
  },
  {
   "cell_type": "code",
   "execution_count": 5,
   "id": "2196d026-d0ed-4148-8c2b-d25365bd3ae8",
   "metadata": {},
   "outputs": [
    {
     "data": {
      "text/plain": [
       "<36601x12605 sparse matrix of type '<class 'numpy.float32'>'\n",
       "\twith 17410138 stored elements in Compressed Sparse Row format>"
      ]
     },
     "execution_count": 5,
     "metadata": {},
     "output_type": "execute_result"
    }
   ],
   "source": [
    "ad.X"
   ]
  },
  {
   "cell_type": "code",
   "execution_count": 6,
   "id": "4f50b003-419f-4258-a0e5-d6491546d4f2",
   "metadata": {},
   "outputs": [
    {
     "data": {
      "text/plain": [
       "<12605x36601 sparse matrix of type '<class 'numpy.float32'>'\n",
       "\twith 17410138 stored elements in Compressed Sparse Column format>"
      ]
     },
     "execution_count": 6,
     "metadata": {},
     "output_type": "execute_result"
    }
   ],
   "source": [
    "ad.X.T"
   ]
  },
  {
   "cell_type": "code",
   "execution_count": 7,
   "id": "114d969a-c9e9-4c2c-8651-c6399f4faccd",
   "metadata": {},
   "outputs": [
    {
     "data": {
      "text/plain": [
       "array([0.96880597, 0.9822239 , 0.99041134, ..., 0.75843203, 0.9918976 ,\n",
       "       0.7947341 ], dtype=float32)"
      ]
     },
     "execution_count": 7,
     "metadata": {},
     "output_type": "execute_result"
    }
   ],
   "source": [
    "ad.X.data"
   ]
  },
  {
   "cell_type": "code",
   "execution_count": 8,
   "id": "e9490f7a-35fd-4086-a3a8-bb925f8fb5e2",
   "metadata": {},
   "outputs": [],
   "source": [
    "import pandas as pd"
   ]
  },
  {
   "cell_type": "code",
   "execution_count": 27,
   "id": "58b899df-7e01-4229-8f0f-3cc0ed19b189",
   "metadata": {},
   "outputs": [],
   "source": [
    "var=pd.read_csv(\"data/franjic_2021/soupx/SRR16928876_GSM5687879_HSB231_EC/genes.tsv\",sep='\\t',header=None,index_col=0)"
   ]
  },
  {
   "cell_type": "code",
   "execution_count": 29,
   "id": "a49f8602-4f4c-4bf7-b590-c86fcc66b793",
   "metadata": {},
   "outputs": [
    {
     "data": {
      "text/html": [
       "<div>\n",
       "<style scoped>\n",
       "    .dataframe tbody tr th:only-of-type {\n",
       "        vertical-align: middle;\n",
       "    }\n",
       "\n",
       "    .dataframe tbody tr th {\n",
       "        vertical-align: top;\n",
       "    }\n",
       "\n",
       "    .dataframe thead th {\n",
       "        text-align: right;\n",
       "    }\n",
       "</style>\n",
       "<table border=\"1\" class=\"dataframe\">\n",
       "  <thead>\n",
       "    <tr style=\"text-align: right;\">\n",
       "      <th></th>\n",
       "      <th>genes</th>\n",
       "    </tr>\n",
       "  </thead>\n",
       "  <tbody>\n",
       "    <tr>\n",
       "      <th>MIR1302-2HG</th>\n",
       "      <td>MIR1302-2HG</td>\n",
       "    </tr>\n",
       "    <tr>\n",
       "      <th>FAM138A</th>\n",
       "      <td>FAM138A</td>\n",
       "    </tr>\n",
       "    <tr>\n",
       "      <th>OR4F5</th>\n",
       "      <td>OR4F5</td>\n",
       "    </tr>\n",
       "    <tr>\n",
       "      <th>AL627309.1</th>\n",
       "      <td>AL627309.1</td>\n",
       "    </tr>\n",
       "    <tr>\n",
       "      <th>AL627309.3</th>\n",
       "      <td>AL627309.3</td>\n",
       "    </tr>\n",
       "    <tr>\n",
       "      <th>...</th>\n",
       "      <td>...</td>\n",
       "    </tr>\n",
       "    <tr>\n",
       "      <th>AC141272.1</th>\n",
       "      <td>AC141272.1</td>\n",
       "    </tr>\n",
       "    <tr>\n",
       "      <th>AC023491.2</th>\n",
       "      <td>AC023491.2</td>\n",
       "    </tr>\n",
       "    <tr>\n",
       "      <th>AC007325.1</th>\n",
       "      <td>AC007325.1</td>\n",
       "    </tr>\n",
       "    <tr>\n",
       "      <th>AC007325.4</th>\n",
       "      <td>AC007325.4</td>\n",
       "    </tr>\n",
       "    <tr>\n",
       "      <th>AC007325.2</th>\n",
       "      <td>AC007325.2</td>\n",
       "    </tr>\n",
       "  </tbody>\n",
       "</table>\n",
       "<p>36601 rows × 1 columns</p>\n",
       "</div>"
      ],
      "text/plain": [
       "                   genes\n",
       "MIR1302-2HG  MIR1302-2HG\n",
       "FAM138A          FAM138A\n",
       "OR4F5              OR4F5\n",
       "AL627309.1    AL627309.1\n",
       "AL627309.3    AL627309.3\n",
       "...                  ...\n",
       "AC141272.1    AC141272.1\n",
       "AC023491.2    AC023491.2\n",
       "AC007325.1    AC007325.1\n",
       "AC007325.4    AC007325.4\n",
       "AC007325.2    AC007325.2\n",
       "\n",
       "[36601 rows x 1 columns]"
      ]
     },
     "execution_count": 29,
     "metadata": {},
     "output_type": "execute_result"
    }
   ],
   "source": [
    "var=pd.DataFrame(list(var.index))\n",
    "var.columns=['genes']\n",
    "var.index=list(var['genes'])\n",
    "var"
   ]
  },
  {
   "cell_type": "code",
   "execution_count": 15,
   "id": "d38b1d03-2242-4053-863f-5ac5f99614e0",
   "metadata": {},
   "outputs": [],
   "source": [
    "obs=pd.read_csv(\"data/franjic_2021/soupx/SRR16928876_GSM5687879_HSB231_EC/barcodes.tsv\",header=None,index_col=0)"
   ]
  },
  {
   "cell_type": "code",
   "execution_count": 30,
   "id": "00a13896-306d-4660-8d87-31aad7911b26",
   "metadata": {},
   "outputs": [
    {
     "data": {
      "text/html": [
       "<div>\n",
       "<style scoped>\n",
       "    .dataframe tbody tr th:only-of-type {\n",
       "        vertical-align: middle;\n",
       "    }\n",
       "\n",
       "    .dataframe tbody tr th {\n",
       "        vertical-align: top;\n",
       "    }\n",
       "\n",
       "    .dataframe thead th {\n",
       "        text-align: right;\n",
       "    }\n",
       "</style>\n",
       "<table border=\"1\" class=\"dataframe\">\n",
       "  <thead>\n",
       "    <tr style=\"text-align: right;\">\n",
       "      <th></th>\n",
       "      <th>barcodes</th>\n",
       "    </tr>\n",
       "  </thead>\n",
       "  <tbody>\n",
       "    <tr>\n",
       "      <th>AAACCCAAGGCGTTAG-1</th>\n",
       "      <td>AAACCCAAGGCGTTAG-1</td>\n",
       "    </tr>\n",
       "    <tr>\n",
       "      <th>AAACCCAAGGTCCGAA-1</th>\n",
       "      <td>AAACCCAAGGTCCGAA-1</td>\n",
       "    </tr>\n",
       "    <tr>\n",
       "      <th>AAACCCAAGTACCCTA-1</th>\n",
       "      <td>AAACCCAAGTACCCTA-1</td>\n",
       "    </tr>\n",
       "    <tr>\n",
       "      <th>AAACCCAAGTACGTCT-1</th>\n",
       "      <td>AAACCCAAGTACGTCT-1</td>\n",
       "    </tr>\n",
       "    <tr>\n",
       "      <th>AAACCCAAGTTCACTG-1</th>\n",
       "      <td>AAACCCAAGTTCACTG-1</td>\n",
       "    </tr>\n",
       "    <tr>\n",
       "      <th>...</th>\n",
       "      <td>...</td>\n",
       "    </tr>\n",
       "    <tr>\n",
       "      <th>TTTGTTGGTCACCCTT-1</th>\n",
       "      <td>TTTGTTGGTCACCCTT-1</td>\n",
       "    </tr>\n",
       "    <tr>\n",
       "      <th>TTTGTTGGTGCAGTGA-1</th>\n",
       "      <td>TTTGTTGGTGCAGTGA-1</td>\n",
       "    </tr>\n",
       "    <tr>\n",
       "      <th>TTTGTTGGTGCATACT-1</th>\n",
       "      <td>TTTGTTGGTGCATACT-1</td>\n",
       "    </tr>\n",
       "    <tr>\n",
       "      <th>TTTGTTGGTTTGCCGG-1</th>\n",
       "      <td>TTTGTTGGTTTGCCGG-1</td>\n",
       "    </tr>\n",
       "    <tr>\n",
       "      <th>TTTGTTGTCTCTAAGG-1</th>\n",
       "      <td>TTTGTTGTCTCTAAGG-1</td>\n",
       "    </tr>\n",
       "  </tbody>\n",
       "</table>\n",
       "<p>12605 rows × 1 columns</p>\n",
       "</div>"
      ],
      "text/plain": [
       "                              barcodes\n",
       "AAACCCAAGGCGTTAG-1  AAACCCAAGGCGTTAG-1\n",
       "AAACCCAAGGTCCGAA-1  AAACCCAAGGTCCGAA-1\n",
       "AAACCCAAGTACCCTA-1  AAACCCAAGTACCCTA-1\n",
       "AAACCCAAGTACGTCT-1  AAACCCAAGTACGTCT-1\n",
       "AAACCCAAGTTCACTG-1  AAACCCAAGTTCACTG-1\n",
       "...                                ...\n",
       "TTTGTTGGTCACCCTT-1  TTTGTTGGTCACCCTT-1\n",
       "TTTGTTGGTGCAGTGA-1  TTTGTTGGTGCAGTGA-1\n",
       "TTTGTTGGTGCATACT-1  TTTGTTGGTGCATACT-1\n",
       "TTTGTTGGTTTGCCGG-1  TTTGTTGGTTTGCCGG-1\n",
       "TTTGTTGTCTCTAAGG-1  TTTGTTGTCTCTAAGG-1\n",
       "\n",
       "[12605 rows x 1 columns]"
      ]
     },
     "execution_count": 30,
     "metadata": {},
     "output_type": "execute_result"
    }
   ],
   "source": [
    "obs=pd.DataFrame(list(obs.index))\n",
    "obs.columns=['barcodes']\n",
    "obs.index=list(obs['barcodes'])\n",
    "obs"
   ]
  },
  {
   "cell_type": "code",
   "execution_count": 17,
   "id": "82e89b78-6cfc-42b2-bab8-61ff46f19918",
   "metadata": {},
   "outputs": [],
   "source": [
    "from scipy.sparse import csr_matrix"
   ]
  },
  {
   "cell_type": "code",
   "execution_count": 32,
   "id": "7ad3048b-de4c-4f9f-b82d-946825730fe6",
   "metadata": {},
   "outputs": [],
   "source": [
    "ad1=sc.AnnData(X=csr_matrix(ad.X.T),obs=obs,var=var)"
   ]
  },
  {
   "cell_type": "code",
   "execution_count": 33,
   "id": "a0343636-2c56-4026-9c52-d0172e2e407f",
   "metadata": {
    "scrolled": true
   },
   "outputs": [
    {
     "data": {
      "text/plain": [
       "Index(['AAACCCAAGGCGTTAG-1', 'AAACCCAAGGTCCGAA-1', 'AAACCCAAGTACCCTA-1',\n",
       "       'AAACCCAAGTACGTCT-1', 'AAACCCAAGTTCACTG-1', 'AAACCCACAGAATTCC-1',\n",
       "       'AAACCCACAGAGCTAG-1', 'AAACCCACAGTTCCAA-1', 'AAACCCACAGTTGCGC-1',\n",
       "       'AAACCCAGTAGGAGGG-1',\n",
       "       ...\n",
       "       'TTTGTTGAGGTTCACT-1', 'TTTGTTGCAAACCATC-1', 'TTTGTTGCATAGAATG-1',\n",
       "       'TTTGTTGGTAGGTGCA-1', 'TTTGTTGGTATCTCGA-1', 'TTTGTTGGTCACCCTT-1',\n",
       "       'TTTGTTGGTGCAGTGA-1', 'TTTGTTGGTGCATACT-1', 'TTTGTTGGTTTGCCGG-1',\n",
       "       'TTTGTTGTCTCTAAGG-1'],\n",
       "      dtype='object', length=12605)"
      ]
     },
     "execution_count": 33,
     "metadata": {},
     "output_type": "execute_result"
    }
   ],
   "source": [
    "ad1.obs_names"
   ]
  },
  {
   "cell_type": "code",
   "execution_count": 34,
   "id": "e350deee-8807-4dc7-a0e8-7b1f7aedd9f2",
   "metadata": {},
   "outputs": [
    {
     "data": {
      "text/plain": [
       "Index(['MIR1302-2HG', 'FAM138A', 'OR4F5', 'AL627309.1', 'AL627309.3',\n",
       "       'AL627309.2', 'AL627309.5', 'AL627309.4', 'AP006222.2', 'AL732372.1',\n",
       "       ...\n",
       "       'AC133551.1', 'AC136612.1', 'AC136616.1', 'AC136616.3', 'AC136616.2',\n",
       "       'AC141272.1', 'AC023491.2', 'AC007325.1', 'AC007325.4', 'AC007325.2'],\n",
       "      dtype='object', length=36601)"
      ]
     },
     "execution_count": 34,
     "metadata": {},
     "output_type": "execute_result"
    }
   ],
   "source": [
    "ad1.var_names"
   ]
  },
  {
   "cell_type": "code",
   "execution_count": 35,
   "id": "36ad9721-3453-4853-b404-7b4454d33eea",
   "metadata": {},
   "outputs": [
    {
     "name": "stdout",
     "output_type": "stream",
     "text": [
      "['SRR16928876_GSM5687879_HSB231_EC', 'SRR16928886_GSM5687889_HSB628_EC', 'SRR16928896_GSM5687899_HSB179_6_DG', 'SRR16928906_GSM5687909_HSB282_2_DG', 'SRR16928877_GSM5687880_HSB231_SUB', 'SRR16928887_GSM5687890_HSB628_SUB', 'SRR16928897_GSM5687900_HSB179_7_DG', 'SRR16928907_GSM5687910_HSB282_3_DG', 'SRR16928878_GSM5687881_HSB231_DG', 'SRR16928888_GSM5687891_HSB628_CA1', 'SRR16928898_GSM5687901_HSB181_1_DG', 'SRR16928908_GSM5687911_HSB282_4_DG', 'SRR16928879_GSM5687882_HSB231_CA1', 'SRR16928889_GSM5687892_HSB628_CA2-4', 'SRR16928899_GSM5687902_HSB181_2_DG', 'SRR16928909_GSM5687912_HSB282_5_DG', 'SRR16928880_GSM5687883_HSB231_CA2-4', 'SRR16928890_GSM5687893_HSB628_DG', 'SRR16928900_GSM5687903_HSB181_3_DG', 'SRR16928910_GSM5687913_HSB282_6_DG', 'SRR16928881_GSM5687884_HSB237_CA1', 'SRR16928891_GSM5687894_HSB179_1_DG', 'SRR16928901_GSM5687904_HSB181_4_DG', 'SRR16928911_GSM5687914_HSB282_7_DG', 'SRR16928882_GSM5687885_HSB237_CA2-4', 'SRR16928892_GSM5687895_HSB179_2_DG', 'SRR16928902_GSM5687905_HSB181_5_DG', 'SRR16928912_GSM5687915_HSB282_8_DG', 'SRR16928883_GSM5687886_HSB237_DG', 'SRR16928893_GSM5687896_HSB179_3_DG', 'SRR16928903_GSM5687906_HSB181_6_DG', 'SRR16928884_GSM5687887_HSB237_EC', 'SRR16928894_GSM5687897_HSB179_4_DG', 'SRR16928904_GSM5687907_HSB181_7_DG', 'SRR16928885_GSM5687888_HSB237_SUB', 'SRR16928895_GSM5687898_HSB179_5_DG', 'SRR16928905_GSM5687908_HSB282_1_DG']\n"
     ]
    }
   ],
   "source": [
    "text = \"\"\"\n",
    "SRR16928876_GSM5687879_HSB231_EC SRR16928886_GSM5687889_HSB628_EC SRR16928896_GSM5687899_HSB179_6_DG SRR16928906_GSM5687909_HSB282_2_DG\n",
    "SRR16928877_GSM5687880_HSB231_SUB SRR16928887_GSM5687890_HSB628_SUB SRR16928897_GSM5687900_HSB179_7_DG SRR16928907_GSM5687910_HSB282_3_DG\n",
    "SRR16928878_GSM5687881_HSB231_DG SRR16928888_GSM5687891_HSB628_CA1 SRR16928898_GSM5687901_HSB181_1_DG SRR16928908_GSM5687911_HSB282_4_DG\n",
    "SRR16928879_GSM5687882_HSB231_CA1 SRR16928889_GSM5687892_HSB628_CA2-4 SRR16928899_GSM5687902_HSB181_2_DG SRR16928909_GSM5687912_HSB282_5_DG\n",
    "SRR16928880_GSM5687883_HSB231_CA2-4 SRR16928890_GSM5687893_HSB628_DG SRR16928900_GSM5687903_HSB181_3_DG SRR16928910_GSM5687913_HSB282_6_DG\n",
    "SRR16928881_GSM5687884_HSB237_CA1 SRR16928891_GSM5687894_HSB179_1_DG SRR16928901_GSM5687904_HSB181_4_DG SRR16928911_GSM5687914_HSB282_7_DG\n",
    "SRR16928882_GSM5687885_HSB237_CA2-4 SRR16928892_GSM5687895_HSB179_2_DG SRR16928902_GSM5687905_HSB181_5_DG SRR16928912_GSM5687915_HSB282_8_DG\n",
    "SRR16928883_GSM5687886_HSB237_DG SRR16928893_GSM5687896_HSB179_3_DG SRR16928903_GSM5687906_HSB181_6_DG\n",
    "SRR16928884_GSM5687887_HSB237_EC SRR16928894_GSM5687897_HSB179_4_DG SRR16928904_GSM5687907_HSB181_7_DG\n",
    "SRR16928885_GSM5687888_HSB237_SUB SRR16928895_GSM5687898_HSB179_5_DG SRR16928905_GSM5687908_HSB282_1_DG\n",
    "\"\"\"\n",
    "\n",
    "# Split the text by any whitespace and filter out any empty strings\n",
    "sample_list = [item for item in text.split() if item]\n",
    "\n",
    "# Print the list to verify\n",
    "print(sample_list)"
   ]
  },
  {
   "cell_type": "code",
   "execution_count": 36,
   "id": "abc7a4fb-a53c-4011-adab-cacaf5e7acb8",
   "metadata": {},
   "outputs": [
    {
     "data": {
      "text/plain": [
       "37"
      ]
     },
     "execution_count": 36,
     "metadata": {},
     "output_type": "execute_result"
    }
   ],
   "source": [
    "len(sample_list)"
   ]
  },
  {
   "cell_type": "code",
   "execution_count": 41,
   "id": "ae4467b9-e06d-457d-b569-2a8f9d8a7a71",
   "metadata": {},
   "outputs": [
    {
     "name": "stdout",
     "output_type": "stream",
     "text": [
      "HSB231_EC\n",
      "HSB628_EC\n",
      "HSB179_6_DG\n",
      "HSB282_2_DG\n",
      "HSB231_SUB\n",
      "HSB628_SUB\n",
      "HSB179_7_DG\n",
      "HSB282_3_DG\n",
      "HSB231_DG\n",
      "HSB628_CA1\n",
      "HSB181_1_DG\n",
      "HSB282_4_DG\n",
      "HSB231_CA1\n",
      "HSB628_CA2-4\n",
      "HSB181_2_DG\n",
      "HSB282_5_DG\n",
      "HSB231_CA2-4\n",
      "HSB628_DG\n",
      "HSB181_3_DG\n",
      "HSB282_6_DG\n",
      "HSB237_CA1\n",
      "HSB179_1_DG\n",
      "HSB181_4_DG\n",
      "HSB282_7_DG\n",
      "HSB237_CA2-4\n",
      "HSB179_2_DG\n",
      "HSB181_5_DG\n",
      "HSB282_8_DG\n",
      "HSB237_DG\n",
      "HSB179_3_DG\n",
      "HSB181_6_DG\n",
      "HSB237_EC\n",
      "HSB179_4_DG\n",
      "HSB181_7_DG\n",
      "HSB237_SUB\n",
      "HSB179_5_DG\n",
      "HSB282_1_DG\n"
     ]
    }
   ],
   "source": [
    "for i in sample_list:\n",
    "    print(i[23:])"
   ]
  },
  {
   "cell_type": "code",
   "execution_count": 39,
   "id": "982f40d8-d3b9-4a74-bf8d-d09bbb6a17c2",
   "metadata": {},
   "outputs": [
    {
     "data": {
      "text/plain": [
       "23"
      ]
     },
     "execution_count": 39,
     "metadata": {},
     "output_type": "execute_result"
    }
   ],
   "source": [
    "len('SRR16928876_GSM5687879_')"
   ]
  },
  {
   "cell_type": "code",
   "execution_count": 42,
   "id": "dff30566-e236-4a48-875f-91b08cfb49b2",
   "metadata": {},
   "outputs": [
    {
     "data": {
      "text/plain": [
       "['AAACCCAAGGCGTTAG-1',\n",
       " 'AAACCCAAGGTCCGAA-1',\n",
       " 'AAACCCAAGTACCCTA-1',\n",
       " 'AAACCCAAGTACGTCT-1',\n",
       " 'AAACCCAAGTTCACTG-1',\n",
       " 'AAACCCACAGAATTCC-1',\n",
       " 'AAACCCACAGAGCTAG-1',\n",
       " 'AAACCCACAGTTCCAA-1',\n",
       " 'AAACCCACAGTTGCGC-1',\n",
       " 'AAACCCAGTAGGAGGG-1']"
      ]
     },
     "execution_count": 42,
     "metadata": {},
     "output_type": "execute_result"
    }
   ],
   "source": [
    "list(ad1.obs_names[:10])+"
   ]
  },
  {
   "cell_type": "code",
   "execution_count": 44,
   "id": "544b0f45-ac32-49a6-816c-4cd4507f33b6",
   "metadata": {},
   "outputs": [
    {
     "data": {
      "text/html": [
       "<div>\n",
       "<style scoped>\n",
       "    .dataframe tbody tr th:only-of-type {\n",
       "        vertical-align: middle;\n",
       "    }\n",
       "\n",
       "    .dataframe tbody tr th {\n",
       "        vertical-align: top;\n",
       "    }\n",
       "\n",
       "    .dataframe thead th {\n",
       "        text-align: right;\n",
       "    }\n",
       "</style>\n",
       "<table border=\"1\" class=\"dataframe\">\n",
       "  <thead>\n",
       "    <tr style=\"text-align: right;\">\n",
       "      <th></th>\n",
       "      <th>0</th>\n",
       "    </tr>\n",
       "  </thead>\n",
       "  <tbody>\n",
       "    <tr>\n",
       "      <th>0</th>\n",
       "      <td>HSB282_1_DGAAACCCAAGGCGTTAG-1</td>\n",
       "    </tr>\n",
       "    <tr>\n",
       "      <th>1</th>\n",
       "      <td>HSB282_1_DGAAACCCAAGGTCCGAA-1</td>\n",
       "    </tr>\n",
       "    <tr>\n",
       "      <th>2</th>\n",
       "      <td>HSB282_1_DGAAACCCAAGTACCCTA-1</td>\n",
       "    </tr>\n",
       "    <tr>\n",
       "      <th>3</th>\n",
       "      <td>HSB282_1_DGAAACCCAAGTACGTCT-1</td>\n",
       "    </tr>\n",
       "    <tr>\n",
       "      <th>4</th>\n",
       "      <td>HSB282_1_DGAAACCCAAGTTCACTG-1</td>\n",
       "    </tr>\n",
       "    <tr>\n",
       "      <th>...</th>\n",
       "      <td>...</td>\n",
       "    </tr>\n",
       "    <tr>\n",
       "      <th>12600</th>\n",
       "      <td>HSB282_1_DGTTTGTTGGTCACCCTT-1</td>\n",
       "    </tr>\n",
       "    <tr>\n",
       "      <th>12601</th>\n",
       "      <td>HSB282_1_DGTTTGTTGGTGCAGTGA-1</td>\n",
       "    </tr>\n",
       "    <tr>\n",
       "      <th>12602</th>\n",
       "      <td>HSB282_1_DGTTTGTTGGTGCATACT-1</td>\n",
       "    </tr>\n",
       "    <tr>\n",
       "      <th>12603</th>\n",
       "      <td>HSB282_1_DGTTTGTTGGTTTGCCGG-1</td>\n",
       "    </tr>\n",
       "    <tr>\n",
       "      <th>12604</th>\n",
       "      <td>HSB282_1_DGTTTGTTGTCTCTAAGG-1</td>\n",
       "    </tr>\n",
       "  </tbody>\n",
       "</table>\n",
       "<p>12605 rows × 1 columns</p>\n",
       "</div>"
      ],
      "text/plain": [
       "                                   0\n",
       "0      HSB282_1_DGAAACCCAAGGCGTTAG-1\n",
       "1      HSB282_1_DGAAACCCAAGGTCCGAA-1\n",
       "2      HSB282_1_DGAAACCCAAGTACCCTA-1\n",
       "3      HSB282_1_DGAAACCCAAGTACGTCT-1\n",
       "4      HSB282_1_DGAAACCCAAGTTCACTG-1\n",
       "...                              ...\n",
       "12600  HSB282_1_DGTTTGTTGGTCACCCTT-1\n",
       "12601  HSB282_1_DGTTTGTTGGTGCAGTGA-1\n",
       "12602  HSB282_1_DGTTTGTTGGTGCATACT-1\n",
       "12603  HSB282_1_DGTTTGTTGGTTTGCCGG-1\n",
       "12604  HSB282_1_DGTTTGTTGTCTCTAAGG-1\n",
       "\n",
       "[12605 rows x 1 columns]"
      ]
     },
     "execution_count": 44,
     "metadata": {},
     "output_type": "execute_result"
    }
   ],
   "source": [
    "pd.DataFrame([i[23:]+j for j in obs.index])"
   ]
  },
  {
   "cell_type": "code",
   "execution_count": 103,
   "id": "86b94666-b82f-4363-90ab-c745e843e763",
   "metadata": {},
   "outputs": [
    {
     "name": "stdout",
     "output_type": "stream",
     "text": [
      "SRR16928899_GSM5687902_HSB181_2_DG\n"
     ]
    }
   ],
   "source": [
    "ads={}\n",
    "for i in sample_list:\n",
    "    pre=sampleMap[i[23:]]\n",
    "    try:\n",
    "        ad=sc.read(f\"data/franjic_2021/soupx/{i}/matrix.mtx\")\n",
    "        var=pd.read_csv(f\"data/franjic_2021/soupx/{i}/genes.tsv\",sep='\\t',header=None,index_col=0)\n",
    "        obs=pd.read_csv(f\"data/franjic_2021/soupx/{i}/barcodes.tsv\",header=None,index_col=0)\n",
    "        \n",
    "        var=pd.DataFrame(list(var.index))\n",
    "        var.columns=['genes']\n",
    "        var.index=list(var['genes'])\n",
    "        obs=pd.DataFrame([pre+'_'+j for j in obs.index])\n",
    "        obs.columns=['barcodes']\n",
    "        obs.index=list(obs['barcodes'])\n",
    "        obs\n",
    "        ad1=sc.AnnData(X=csr_matrix(ad.X.T),obs=obs,var=var)\n",
    "        ads[pre]=ad1\n",
    "    except:\n",
    "        print(i)"
   ]
  },
  {
   "cell_type": "code",
   "execution_count": 104,
   "id": "0768413a-de3e-4069-96bc-1eb0b60d5699",
   "metadata": {},
   "outputs": [
    {
     "data": {
      "text/plain": [
       "36"
      ]
     },
     "execution_count": 104,
     "metadata": {},
     "output_type": "execute_result"
    }
   ],
   "source": [
    "len(ads)"
   ]
  },
  {
   "cell_type": "code",
   "execution_count": 105,
   "id": "8678f9a9-16e6-464d-838a-82d0a5c6ad7f",
   "metadata": {},
   "outputs": [],
   "source": [
    "ad=list(ads.values())"
   ]
  },
  {
   "cell_type": "code",
   "execution_count": 106,
   "id": "438dc229-68f9-4192-a13b-2d314801552a",
   "metadata": {},
   "outputs": [],
   "source": [
    "ad=ad[0].concatenate(ad[1:],join='outer')"
   ]
  },
  {
   "cell_type": "code",
   "execution_count": 107,
   "id": "1e987b7a-af9c-410a-8cca-a532a24d3425",
   "metadata": {},
   "outputs": [
    {
     "data": {
      "text/plain": [
       "AnnData object with n_obs × n_vars = 231973 × 36601\n",
       "    obs: 'barcodes', 'batch'\n",
       "    var: 'genes'"
      ]
     },
     "execution_count": 107,
     "metadata": {},
     "output_type": "execute_result"
    }
   ],
   "source": [
    "ad"
   ]
  },
  {
   "cell_type": "code",
   "execution_count": 108,
   "id": "81e0473d-607a-4c7a-b6fa-0ce82e2914b9",
   "metadata": {},
   "outputs": [
    {
     "data": {
      "text/plain": [
       "array([0.8560873 , 0.9026685 , 0.9267649 , ..., 0.        , 0.13952044,\n",
       "       4.362139  ], dtype=float32)"
      ]
     },
     "execution_count": 108,
     "metadata": {},
     "output_type": "execute_result"
    }
   ],
   "source": [
    "ad.X.data"
   ]
  },
  {
   "cell_type": "code",
   "execution_count": 109,
   "id": "daba656e-466f-4bc6-b913-04fa774876e7",
   "metadata": {},
   "outputs": [
    {
     "data": {
      "text/html": [
       "<div>\n",
       "<style scoped>\n",
       "    .dataframe tbody tr th:only-of-type {\n",
       "        vertical-align: middle;\n",
       "    }\n",
       "\n",
       "    .dataframe tbody tr th {\n",
       "        vertical-align: top;\n",
       "    }\n",
       "\n",
       "    .dataframe thead th {\n",
       "        text-align: right;\n",
       "    }\n",
       "</style>\n",
       "<table border=\"1\" class=\"dataframe\">\n",
       "  <thead>\n",
       "    <tr style=\"text-align: right;\">\n",
       "      <th></th>\n",
       "      <th>barcodes</th>\n",
       "      <th>batch</th>\n",
       "    </tr>\n",
       "  </thead>\n",
       "  <tbody>\n",
       "    <tr>\n",
       "      <th>HSB231_1_EC_AAACCCAAGGCGTTAG-1-0</th>\n",
       "      <td>HSB231_1_EC_AAACCCAAGGCGTTAG-1</td>\n",
       "      <td>0</td>\n",
       "    </tr>\n",
       "    <tr>\n",
       "      <th>HSB231_1_EC_AAACCCAAGGTCCGAA-1-0</th>\n",
       "      <td>HSB231_1_EC_AAACCCAAGGTCCGAA-1</td>\n",
       "      <td>0</td>\n",
       "    </tr>\n",
       "    <tr>\n",
       "      <th>HSB231_1_EC_AAACCCAAGTACCCTA-1-0</th>\n",
       "      <td>HSB231_1_EC_AAACCCAAGTACCCTA-1</td>\n",
       "      <td>0</td>\n",
       "    </tr>\n",
       "    <tr>\n",
       "      <th>HSB231_1_EC_AAACCCAAGTACGTCT-1-0</th>\n",
       "      <td>HSB231_1_EC_AAACCCAAGTACGTCT-1</td>\n",
       "      <td>0</td>\n",
       "    </tr>\n",
       "    <tr>\n",
       "      <th>HSB231_1_EC_AAACCCAAGTTCACTG-1-0</th>\n",
       "      <td>HSB231_1_EC_AAACCCAAGTTCACTG-1</td>\n",
       "      <td>0</td>\n",
       "    </tr>\n",
       "    <tr>\n",
       "      <th>...</th>\n",
       "      <td>...</td>\n",
       "      <td>...</td>\n",
       "    </tr>\n",
       "    <tr>\n",
       "      <th>HSB282_1_DG_TTTGGTTGTGGGCTCT-1-35</th>\n",
       "      <td>HSB282_1_DG_TTTGGTTGTGGGCTCT-1</td>\n",
       "      <td>35</td>\n",
       "    </tr>\n",
       "    <tr>\n",
       "      <th>HSB282_1_DG_TTTGGTTGTTATTCTC-1-35</th>\n",
       "      <td>HSB282_1_DG_TTTGGTTGTTATTCTC-1</td>\n",
       "      <td>35</td>\n",
       "    </tr>\n",
       "    <tr>\n",
       "      <th>HSB282_1_DG_TTTGGTTTCATACAGC-1-35</th>\n",
       "      <td>HSB282_1_DG_TTTGGTTTCATACAGC-1</td>\n",
       "      <td>35</td>\n",
       "    </tr>\n",
       "    <tr>\n",
       "      <th>HSB282_1_DG_TTTGTTGAGAGGATCC-1-35</th>\n",
       "      <td>HSB282_1_DG_TTTGTTGAGAGGATCC-1</td>\n",
       "      <td>35</td>\n",
       "    </tr>\n",
       "    <tr>\n",
       "      <th>HSB282_1_DG_TTTGTTGGTACTCCCT-1-35</th>\n",
       "      <td>HSB282_1_DG_TTTGTTGGTACTCCCT-1</td>\n",
       "      <td>35</td>\n",
       "    </tr>\n",
       "  </tbody>\n",
       "</table>\n",
       "<p>231973 rows × 2 columns</p>\n",
       "</div>"
      ],
      "text/plain": [
       "                                                         barcodes batch\n",
       "HSB231_1_EC_AAACCCAAGGCGTTAG-1-0   HSB231_1_EC_AAACCCAAGGCGTTAG-1     0\n",
       "HSB231_1_EC_AAACCCAAGGTCCGAA-1-0   HSB231_1_EC_AAACCCAAGGTCCGAA-1     0\n",
       "HSB231_1_EC_AAACCCAAGTACCCTA-1-0   HSB231_1_EC_AAACCCAAGTACCCTA-1     0\n",
       "HSB231_1_EC_AAACCCAAGTACGTCT-1-0   HSB231_1_EC_AAACCCAAGTACGTCT-1     0\n",
       "HSB231_1_EC_AAACCCAAGTTCACTG-1-0   HSB231_1_EC_AAACCCAAGTTCACTG-1     0\n",
       "...                                                           ...   ...\n",
       "HSB282_1_DG_TTTGGTTGTGGGCTCT-1-35  HSB282_1_DG_TTTGGTTGTGGGCTCT-1    35\n",
       "HSB282_1_DG_TTTGGTTGTTATTCTC-1-35  HSB282_1_DG_TTTGGTTGTTATTCTC-1    35\n",
       "HSB282_1_DG_TTTGGTTTCATACAGC-1-35  HSB282_1_DG_TTTGGTTTCATACAGC-1    35\n",
       "HSB282_1_DG_TTTGTTGAGAGGATCC-1-35  HSB282_1_DG_TTTGTTGAGAGGATCC-1    35\n",
       "HSB282_1_DG_TTTGTTGGTACTCCCT-1-35  HSB282_1_DG_TTTGTTGGTACTCCCT-1    35\n",
       "\n",
       "[231973 rows x 2 columns]"
      ]
     },
     "execution_count": 109,
     "metadata": {},
     "output_type": "execute_result"
    }
   ],
   "source": [
    "ad.obs"
   ]
  },
  {
   "cell_type": "code",
   "execution_count": 110,
   "id": "64f59777-41d4-4f78-bb28-abc44981e03c",
   "metadata": {},
   "outputs": [],
   "source": [
    "ad.write_h5ad('data/franjic_2021/soupx_merge.h5ad')"
   ]
  },
  {
   "cell_type": "code",
   "execution_count": null,
   "id": "e69797e9-819f-4ad8-a8da-fe29d766720e",
   "metadata": {},
   "outputs": [],
   "source": []
  },
  {
   "cell_type": "code",
   "execution_count": 13,
   "id": "ab2ba0e0-9ef0-48a1-bb1c-0b160d2910cc",
   "metadata": {},
   "outputs": [],
   "source": [
    "adata=sc.read('data/results/hm3f1a_hip_integration_palantir_Franjic_scv.h5ad')"
   ]
  },
  {
   "cell_type": "code",
   "execution_count": 14,
   "id": "ce1d4698-3ab8-47eb-8914-7ecd435c4f5d",
   "metadata": {},
   "outputs": [
    {
     "data": {
      "text/plain": [
       "AnnData object with n_obs × n_vars = 49926 × 2000\n",
       "    obs: 'nCount_RNA', 'nFeature_RNA', 'percent.mt', 'samplename', 'region', 'cluster', 'batch', 'sampleID', 'cellType', 'n_genes_by_counts', 'log1p_n_genes_by_counts', 'total_counts', 'log1p_total_counts', 'pct_counts_in_top_20_genes', 'total_counts_mt', 'log1p_total_counts_mt', 'pct_counts_mt', 'outlier', 'mt_outlier', 'doublet_score', 'predicted_doublet', 'n_genes', 'barcode', 'sample', 're_barcode', 'ori_barcode', 're_sample', 'initial_size_unspliced', 'initial_size_spliced', 'initial_size', 'state', 'n_counts', 'velocity_self_transition'\n",
       "    var: 'mt', 'n_cells_by_counts', 'mean_counts', 'log1p_mean_counts', 'pct_dropout_by_counts', 'total_counts', 'log1p_total_counts', 'n_cells', 'gene_count_corr', 'means', 'dispersions', 'dispersions_norm', 'highly_variable', 'velocity_gamma', 'velocity_qreg_ratio', 'velocity_r2', 'velocity_genes'\n",
       "    uns: 'neighbors', 'pca', 'state_colors', 'velocity_graph', 'velocity_graph_neg', 'velocity_params'\n",
       "    obsm: 'X_diffmap', 'X_draw_graph_fa', 'X_palantir_diff_comp', 'X_palantir_multiscale', 'X_pca', 'X_pca_harmony', 'X_tsne', 'X_umap', 'velocity_draw_graph_fa'\n",
       "    varm: 'PCs'\n",
       "    layers: 'Ms', 'Mu', 'ambiguous', 'matrix', 'spliced', 'unspliced', 'variance_velocity', 'velocity'\n",
       "    obsp: 'connectivities', 'distances'"
      ]
     },
     "execution_count": 14,
     "metadata": {},
     "output_type": "execute_result"
    }
   ],
   "source": [
    "adata"
   ]
  },
  {
   "cell_type": "code",
   "execution_count": 116,
   "id": "c0f4db81-b1c6-47f6-a93d-dbbaf8afdfbe",
   "metadata": {},
   "outputs": [],
   "source": [
    "ad.obs_names=[i[0] for i in pd.Series(ad.obs_names).str.split('-')]"
   ]
  },
  {
   "cell_type": "code",
   "execution_count": 119,
   "id": "15e91975-bbe9-41dc-9d6c-d1ebcb1927dc",
   "metadata": {},
   "outputs": [],
   "source": [
    "ad1=ad[ad.obs_names.isin(adata.obs_names),:].copy()"
   ]
  },
  {
   "cell_type": "code",
   "execution_count": 120,
   "id": "f8066cfb-8c23-40af-a68d-245178cc2157",
   "metadata": {},
   "outputs": [],
   "source": [
    "adata=adata[ad1.obs_names]"
   ]
  },
  {
   "cell_type": "code",
   "execution_count": 124,
   "id": "dd6eafa5-c56c-4ccd-9771-d5419f0498f0",
   "metadata": {},
   "outputs": [
    {
     "data": {
      "text/plain": [
       "View of AnnData object with n_obs × n_vars = 40097 × 2000\n",
       "    obs: 'nCount_RNA', 'nFeature_RNA', 'percent.mt', 'samplename', 'region', 'cluster', 'batch', 'sampleID', 'cellType', 'n_genes_by_counts', 'log1p_n_genes_by_counts', 'total_counts', 'log1p_total_counts', 'pct_counts_in_top_20_genes', 'total_counts_mt', 'log1p_total_counts_mt', 'pct_counts_mt', 'outlier', 'mt_outlier', 'doublet_score', 'predicted_doublet', 'n_genes', 'barcode', 'sample', 're_barcode', 'ori_barcode', 're_sample', 'initial_size_unspliced', 'initial_size_spliced', 'initial_size', 'state', 'n_counts', 'velocity_self_transition'\n",
       "    var: 'mt', 'n_cells_by_counts', 'mean_counts', 'log1p_mean_counts', 'pct_dropout_by_counts', 'total_counts', 'log1p_total_counts', 'n_cells', 'gene_count_corr', 'means', 'dispersions', 'dispersions_norm', 'highly_variable', 'velocity_gamma', 'velocity_qreg_ratio', 'velocity_r2', 'velocity_genes'\n",
       "    uns: 'neighbors', 'pca', 'state_colors', 'velocity_graph', 'velocity_graph_neg', 'velocity_params'\n",
       "    obsm: 'X_diffmap', 'X_draw_graph_fa', 'X_palantir_diff_comp', 'X_palantir_multiscale', 'X_pca', 'X_pca_harmony', 'X_tsne', 'X_umap', 'velocity_draw_graph_fa'\n",
       "    varm: 'PCs'\n",
       "    layers: 'Ms', 'Mu', 'ambiguous', 'matrix', 'spliced', 'unspliced', 'variance_velocity', 'velocity'\n",
       "    obsp: 'connectivities', 'distances'"
      ]
     },
     "execution_count": 124,
     "metadata": {},
     "output_type": "execute_result"
    }
   ],
   "source": [
    "adata"
   ]
  },
  {
   "cell_type": "code",
   "execution_count": 127,
   "id": "bb0b6601-3867-4ccf-993f-2463f0a058f0",
   "metadata": {},
   "outputs": [],
   "source": [
    "ad1.obs=adata.obs"
   ]
  },
  {
   "cell_type": "code",
   "execution_count": 129,
   "id": "cb01c4e2-4fcf-419e-bb95-431728874c48",
   "metadata": {},
   "outputs": [
    {
     "data": {
      "text/plain": [
       "KeysView(AxisArraysView with keys: X_diffmap, X_draw_graph_fa, X_palantir_diff_comp, X_palantir_multiscale, X_pca, X_pca_harmony, X_tsne, X_umap, velocity_draw_graph_fa)"
      ]
     },
     "execution_count": 129,
     "metadata": {},
     "output_type": "execute_result"
    }
   ],
   "source": [
    "adata.obsm.keys()"
   ]
  },
  {
   "cell_type": "code",
   "execution_count": 132,
   "id": "b4c4df49-ae29-4c28-90de-58b98685cc21",
   "metadata": {},
   "outputs": [],
   "source": [
    "for i in adata.obsm.keys():\n",
    "    ad1.obsm[i]=adata.obsm[i]"
   ]
  },
  {
   "cell_type": "code",
   "execution_count": 138,
   "id": "e0e92644-7d1d-4d03-b60f-4c872f4d79c5",
   "metadata": {},
   "outputs": [],
   "source": [
    "ad1.write_h5ad('data/franjic_2021/soupx_merge_with_anno.h5ad')"
   ]
  },
  {
   "cell_type": "code",
   "execution_count": 136,
   "id": "8827c617-7ba1-43c5-85d5-4147f142d50e",
   "metadata": {},
   "outputs": [],
   "source": [
    "genes=['MKI67','TOP2A','HMGB2','PBK','UBE2C','RRM2','CDCA3','CCNA2','FAM64A','TPX2']\n",
    "genes = [i for i in genes if i in ad.var_names]"
   ]
  },
  {
   "cell_type": "code",
   "execution_count": 141,
   "id": "3ffcaa24-e3a7-4f53-997b-9626693de15a",
   "metadata": {},
   "outputs": [
    {
     "data": {
      "image/png": "[encoded data removed]",
      "text/plain": [
       "<Figure size 327.2x332 with 4 Axes>"
      ]
     },
     "metadata": {
      "image/png": {
       "height": 425,
       "width": 338
      },
      "needs_background": "light"
     },
     "output_type": "display_data"
    }
   ],
   "source": [
    "sc.pl.dotplot(ad1,genes,'state',swap_axes=True)"
   ]
  },
  {
   "cell_type": "code",
   "execution_count": 140,
   "id": "8f03eec7-469f-4e82-bdfe-a5aa9883569a",
   "metadata": {},
   "outputs": [
    {
     "data": {
      "image/png": "[encoded data removed]",
      "text/plain": [
       "<Figure size 386.4x276 with 4 Axes>"
      ]
     },
     "metadata": {
      "image/png": {
       "height": 281,
       "width": 485
      },
      "needs_background": "light"
     },
     "output_type": "display_data"
    }
   ],
   "source": [
    "sc.pl.dotplot(ad1,genes,'state')"
   ]
  },
  {
   "cell_type": "code",
   "execution_count": null,
   "id": "ffe884af-62a8-46bf-abd5-de58d25bb6f3",
   "metadata": {},
   "outputs": [],
   "source": []
  },
  {
   "cell_type": "code",
   "execution_count": null,
   "id": "e82a0f45-8907-4998-a59c-3354c0f708b7",
   "metadata": {},
   "outputs": [],
   "source": []
  },
  {
   "cell_type": "code",
   "execution_count": 101,
   "id": "cadc4af6-4dc6-4b49-8fa1-00ea7e3f5808",
   "metadata": {},
   "outputs": [],
   "source": [
    "sampleMap=dict(zip(org,new))"
   ]
  },
  {
   "cell_type": "code",
   "execution_count": 102,
   "id": "c82895a7-19eb-4da6-aedd-bd61ac110351",
   "metadata": {},
   "outputs": [
    {
     "data": {
      "text/plain": [
       "{'HSB179_1_DG': 'HSB179_1_eDG',\n",
       " 'HSB179_2_DG': 'HSB179_2_eDG',\n",
       " 'HSB179_3_DG': 'HSB179_3_eDG',\n",
       " 'HSB179_4_DG': 'HSB179_4_eDG',\n",
       " 'HSB179_5_DG': 'HSB179_5_eDG',\n",
       " 'HSB179_6_DG': 'HSB179_6_eDG',\n",
       " 'HSB179_7_DG': 'HSB179_7_eDG',\n",
       " 'HSB181_1_DG': 'HSB181_1_DG',\n",
       " 'HSB181_2_DG': 'HSB181_2_DG',\n",
       " 'HSB181_3_DG': 'HSB181_3_DG',\n",
       " 'HSB181_4_DG': 'HSB181_4_DG',\n",
       " 'HSB181_5_DG': 'HSB181_5_DG',\n",
       " 'HSB181_6_DG': 'HSB181_6_DG',\n",
       " 'HSB181_7_DG': 'HSB181_7_DG',\n",
       " 'HSB231_CA1': 'HSB231_1_CA1',\n",
       " 'HSB231_CA2-4': 'HSB231_1_CA24',\n",
       " 'HSB231_DG': 'HSB231_1_DG',\n",
       " 'HSB231_EC': 'HSB231_1_EC',\n",
       " 'HSB231_SUB': 'HSB231_1_SUB',\n",
       " 'HSB237_CA1': 'HSB237_1_CA1',\n",
       " 'HSB237_CA2-4': 'HSB237_1_CA24',\n",
       " 'HSB237_DG': 'HSB237_1_DG',\n",
       " 'HSB237_EC': 'HSB237_1_EC',\n",
       " 'HSB237_SUB': 'HSB237_1_SUB',\n",
       " 'HSB282_1_DG': 'HSB282_1_DG',\n",
       " 'HSB282_2_DG': 'HSB282_2_DG',\n",
       " 'HSB282_3_DG': 'HSB282_3_DG',\n",
       " 'HSB282_4_DG': 'HSB282_4_DG',\n",
       " 'HSB282_5_DG': 'HSB282_5_DG',\n",
       " 'HSB282_6_DG': 'HSB282_6_DG',\n",
       " 'HSB282_7_DG': 'HSB282_7_DG',\n",
       " 'HSB282_8_DG': 'HSB282_8_DG',\n",
       " 'HSB628_CA1': 'HSB628_1_CA1',\n",
       " 'HSB628_CA2-4': 'HSB628_1_CA24',\n",
       " 'HSB628_DG': 'HSB628_1_DG',\n",
       " 'HSB628_EC': 'HSB628_1_EC',\n",
       " 'HSB628_SUB': 'HSB628_1_SUB'}"
      ]
     },
     "execution_count": 102,
     "metadata": {},
     "output_type": "execute_result"
    }
   ],
   "source": [
    "sampleMap"
   ]
  },
  {
   "cell_type": "code",
   "execution_count": 98,
   "id": "12e15e06-9774-4403-bdee-48815f0b5e0d",
   "metadata": {},
   "outputs": [],
   "source": [
    "org=['HSB179_1_DG',\n",
    " 'HSB179_2_DG',\n",
    " 'HSB179_3_DG',\n",
    " 'HSB179_4_DG',\n",
    " 'HSB179_5_DG',\n",
    " 'HSB179_6_DG',\n",
    " 'HSB179_7_DG',\n",
    " 'HSB181_1_DG',\n",
    " 'HSB181_2_DG',\n",
    " 'HSB181_3_DG',\n",
    " 'HSB181_4_DG',\n",
    " 'HSB181_5_DG',\n",
    " 'HSB181_6_DG',\n",
    " 'HSB181_7_DG',\n",
    " 'HSB231_CA1',\n",
    " 'HSB231_CA2-4',\n",
    " 'HSB231_DG',\n",
    " 'HSB231_EC',\n",
    " 'HSB231_SUB',\n",
    " 'HSB237_CA1',\n",
    " 'HSB237_CA2-4',\n",
    " 'HSB237_DG',\n",
    " 'HSB237_EC',\n",
    " 'HSB237_SUB',\n",
    " 'HSB282_1_DG',\n",
    " 'HSB282_2_DG',\n",
    " 'HSB282_3_DG',\n",
    " 'HSB282_4_DG',\n",
    " 'HSB282_5_DG',\n",
    " 'HSB282_6_DG',\n",
    " 'HSB282_7_DG',\n",
    " 'HSB282_8_DG',\n",
    " 'HSB628_CA1',\n",
    " 'HSB628_CA2-4',\n",
    " 'HSB628_DG',\n",
    " 'HSB628_EC',\n",
    " 'HSB628_SUB']"
   ]
  },
  {
   "cell_type": "code",
   "execution_count": 85,
   "id": "1f7c9938-80c6-40a6-b360-3daefa2f16b9",
   "metadata": {},
   "outputs": [
    {
     "data": {
      "text/plain": [
       "{'HSB179_1_eDG',\n",
       " 'HSB179_2_eDG',\n",
       " 'HSB179_3_eDG',\n",
       " 'HSB179_4_eDG',\n",
       " 'HSB179_5_eDG',\n",
       " 'HSB179_6_eDG',\n",
       " 'HSB179_7_eDG',\n",
       " 'HSB181_1_DG',\n",
       " 'HSB181_2_DG',\n",
       " 'HSB181_3_DG',\n",
       " 'HSB181_4_DG',\n",
       " 'HSB181_5_DG',\n",
       " 'HSB181_6_DG',\n",
       " 'HSB181_7_DG',\n",
       " 'HSB231_1_CA1',\n",
       " 'HSB231_1_CA24',\n",
       " 'HSB231_1_DG',\n",
       " 'HSB231_1_EC',\n",
       " 'HSB231_1_SUB',\n",
       " 'HSB237_1_CA1',\n",
       " 'HSB237_1_CA24',\n",
       " 'HSB237_1_DG',\n",
       " 'HSB237_1_EC',\n",
       " 'HSB237_1_SUB',\n",
       " 'HSB282_1_DG',\n",
       " 'HSB282_2_DG',\n",
       " 'HSB282_3_DG',\n",
       " 'HSB282_4_DG',\n",
       " 'HSB282_5_DG',\n",
       " 'HSB282_6_DG',\n",
       " 'HSB282_7_DG',\n",
       " 'HSB282_8_DG',\n",
       " 'HSB628_1_CA1',\n",
       " 'HSB628_1_CA24',\n",
       " 'HSB628_1_DG',\n",
       " 'HSB628_1_EC',\n",
       " 'HSB628_1_SUB'}"
      ]
     },
     "execution_count": 85,
     "metadata": {},
     "output_type": "execute_result"
    }
   ],
   "source": [
    "set(sampleMap.values())"
   ]
  },
  {
   "cell_type": "code",
   "execution_count": 99,
   "id": "b4bfbbc7-541e-4014-8fb1-22433745f1cc",
   "metadata": {},
   "outputs": [],
   "source": [
    "new=['HSB179_1_eDG',\n",
    " 'HSB179_2_eDG',\n",
    " 'HSB179_3_eDG',\n",
    " 'HSB179_4_eDG',\n",
    " 'HSB179_5_eDG',\n",
    " 'HSB179_6_eDG',\n",
    " 'HSB179_7_eDG',\n",
    " 'HSB181_1_DG',\n",
    " 'HSB181_2_DG',\n",
    " 'HSB181_3_DG',\n",
    " 'HSB181_4_DG',\n",
    " 'HSB181_5_DG',\n",
    " 'HSB181_6_DG',\n",
    " 'HSB181_7_DG',\n",
    " 'HSB231_1_CA1',\n",
    " 'HSB231_1_CA24',\n",
    " 'HSB231_1_DG',\n",
    " 'HSB231_1_EC',\n",
    " 'HSB231_1_SUB',\n",
    " 'HSB237_1_CA1',\n",
    " 'HSB237_1_CA24',\n",
    " 'HSB237_1_DG',\n",
    " 'HSB237_1_EC',\n",
    " 'HSB237_1_SUB',\n",
    " 'HSB282_1_DG',\n",
    " 'HSB282_2_DG',\n",
    " 'HSB282_3_DG',\n",
    " 'HSB282_4_DG',\n",
    " 'HSB282_5_DG',\n",
    " 'HSB282_6_DG',\n",
    " 'HSB282_7_DG',\n",
    " 'HSB282_8_DG',\n",
    " 'HSB628_1_CA1',\n",
    " 'HSB628_1_CA24',\n",
    " 'HSB628_1_DG',\n",
    " 'HSB628_1_EC',\n",
    " 'HSB628_1_SUB']"
   ]
  },
  {
   "cell_type": "code",
   "execution_count": null,
   "id": "67e107ba-75c9-4b8e-815d-4ed8ffefa25f",
   "metadata": {},
   "outputs": [],
   "source": []
  },
  {
   "cell_type": "markdown",
   "id": "fd039c82-ca86-4a8f-9246-386faff07c1f",
   "metadata": {},
   "source": [
    "# Before SoupX"
   ]
  },
  {
   "cell_type": "code",
   "execution_count": 15,
   "id": "87c4e5ff-3066-43cf-aa40-3a3b929af2ba",
   "metadata": {},
   "outputs": [],
   "source": [
    "adata=sc.read('data/results/hm3f1a_hip_integration_palantir_Franjic_scv.h5ad')"
   ]
  },
  {
   "cell_type": "code",
   "execution_count": 16,
   "id": "a704e0f1-de88-44b1-a3d0-7b1bd7dc4ed5",
   "metadata": {},
   "outputs": [
    {
     "data": {
      "text/html": [
       "<div>\n",
       "<style scoped>\n",
       "    .dataframe tbody tr th:only-of-type {\n",
       "        vertical-align: middle;\n",
       "    }\n",
       "\n",
       "    .dataframe tbody tr th {\n",
       "        vertical-align: top;\n",
       "    }\n",
       "\n",
       "    .dataframe thead th {\n",
       "        text-align: right;\n",
       "    }\n",
       "</style>\n",
       "<table border=\"1\" class=\"dataframe\">\n",
       "  <thead>\n",
       "    <tr style=\"text-align: right;\">\n",
       "      <th></th>\n",
       "      <th>nCount_RNA</th>\n",
       "      <th>nFeature_RNA</th>\n",
       "      <th>percent.mt</th>\n",
       "      <th>samplename</th>\n",
       "      <th>region</th>\n",
       "      <th>cluster</th>\n",
       "      <th>batch</th>\n",
       "      <th>sampleID</th>\n",
       "      <th>cellType</th>\n",
       "      <th>n_genes_by_counts</th>\n",
       "      <th>...</th>\n",
       "      <th>sample</th>\n",
       "      <th>re_barcode</th>\n",
       "      <th>ori_barcode</th>\n",
       "      <th>re_sample</th>\n",
       "      <th>initial_size_unspliced</th>\n",
       "      <th>initial_size_spliced</th>\n",
       "      <th>initial_size</th>\n",
       "      <th>state</th>\n",
       "      <th>n_counts</th>\n",
       "      <th>velocity_self_transition</th>\n",
       "    </tr>\n",
       "    <tr>\n",
       "      <th>re_barcode</th>\n",
       "      <th></th>\n",
       "      <th></th>\n",
       "      <th></th>\n",
       "      <th></th>\n",
       "      <th></th>\n",
       "      <th></th>\n",
       "      <th></th>\n",
       "      <th></th>\n",
       "      <th></th>\n",
       "      <th></th>\n",
       "      <th></th>\n",
       "      <th></th>\n",
       "      <th></th>\n",
       "      <th></th>\n",
       "      <th></th>\n",
       "      <th></th>\n",
       "      <th></th>\n",
       "      <th></th>\n",
       "      <th></th>\n",
       "      <th></th>\n",
       "      <th></th>\n",
       "    </tr>\n",
       "  </thead>\n",
       "  <tbody>\n",
       "    <tr>\n",
       "      <th>HSB179_1_eDG_TCCTCTTGTCCTGTCT</th>\n",
       "      <td>60044</td>\n",
       "      <td>9053</td>\n",
       "      <td>0.011658</td>\n",
       "      <td>HSB179</td>\n",
       "      <td>DG</td>\n",
       "      <td>CA3 CFAP299 SYN3</td>\n",
       "      <td>0</td>\n",
       "      <td>HSB179_1</td>\n",
       "      <td>Unknown</td>\n",
       "      <td>9053</td>\n",
       "      <td>...</td>\n",
       "      <td>HSB179_1_eDG</td>\n",
       "      <td>HSB179_1_eDG_TCCTCTTGTCCTGTCT</td>\n",
       "      <td>HSB179_1_eDG_TCCTCTTGTCCTGTCT-0</td>\n",
       "      <td>HSB179_1_eDG</td>\n",
       "      <td>38705</td>\n",
       "      <td>6835</td>\n",
       "      <td>6835.0</td>\n",
       "      <td>Glutamatergic neurons</td>\n",
       "      <td>6324.066895</td>\n",
       "      <td>0.038825</td>\n",
       "    </tr>\n",
       "    <tr>\n",
       "      <th>HSB179_1_eDG_AAACCCACATCTTAGG</th>\n",
       "      <td>20932</td>\n",
       "      <td>5326</td>\n",
       "      <td>0.014332</td>\n",
       "      <td>HSB179</td>\n",
       "      <td>DG</td>\n",
       "      <td>DG GC PROX1 SGCZ</td>\n",
       "      <td>0</td>\n",
       "      <td>HSB179_1</td>\n",
       "      <td>Unknown</td>\n",
       "      <td>5326</td>\n",
       "      <td>...</td>\n",
       "      <td>HSB179_1_eDG</td>\n",
       "      <td>HSB179_1_eDG_AAACCCACATCTTAGG</td>\n",
       "      <td>HSB179_1_eDG_AAACCCACATCTTAGG-0</td>\n",
       "      <td>HSB179_1_eDG</td>\n",
       "      <td>13227</td>\n",
       "      <td>2351</td>\n",
       "      <td>2351.0</td>\n",
       "      <td>Glutamatergic neurons</td>\n",
       "      <td>6417.919434</td>\n",
       "      <td>0.085020</td>\n",
       "    </tr>\n",
       "    <tr>\n",
       "      <th>HSB179_1_eDG_AAAGGGCAGAGCCGTA</th>\n",
       "      <td>10724</td>\n",
       "      <td>4275</td>\n",
       "      <td>0.111899</td>\n",
       "      <td>HSB179</td>\n",
       "      <td>DG</td>\n",
       "      <td>DG GC PROX1 SGCZ</td>\n",
       "      <td>0</td>\n",
       "      <td>HSB179_1</td>\n",
       "      <td>Unknown</td>\n",
       "      <td>4275</td>\n",
       "      <td>...</td>\n",
       "      <td>HSB179_1_eDG</td>\n",
       "      <td>HSB179_1_eDG_AAAGGGCAGAGCCGTA</td>\n",
       "      <td>HSB179_1_eDG_AAAGGGCAGAGCCGTA-0</td>\n",
       "      <td>HSB179_1_eDG</td>\n",
       "      <td>5484</td>\n",
       "      <td>2232</td>\n",
       "      <td>2232.0</td>\n",
       "      <td>Glutamatergic neurons</td>\n",
       "      <td>3458.978516</td>\n",
       "      <td>0.067995</td>\n",
       "    </tr>\n",
       "    <tr>\n",
       "      <th>HSB179_1_eDG_AAAGGGCGTGTGCCTG</th>\n",
       "      <td>13130</td>\n",
       "      <td>4622</td>\n",
       "      <td>0.015232</td>\n",
       "      <td>HSB179</td>\n",
       "      <td>DG</td>\n",
       "      <td>DG GC PROX1 SGCZ</td>\n",
       "      <td>0</td>\n",
       "      <td>HSB179_1</td>\n",
       "      <td>Unknown</td>\n",
       "      <td>4622</td>\n",
       "      <td>...</td>\n",
       "      <td>HSB179_1_eDG</td>\n",
       "      <td>HSB179_1_eDG_AAAGGGCGTGTGCCTG</td>\n",
       "      <td>HSB179_1_eDG_AAAGGGCGTGTGCCTG-0</td>\n",
       "      <td>HSB179_1_eDG</td>\n",
       "      <td>7674</td>\n",
       "      <td>1593</td>\n",
       "      <td>1593.0</td>\n",
       "      <td>Glutamatergic neurons</td>\n",
       "      <td>5928.196289</td>\n",
       "      <td>0.091342</td>\n",
       "    </tr>\n",
       "    <tr>\n",
       "      <th>HSB179_1_eDG_AAAGGGCTCGCTGATA</th>\n",
       "      <td>14608</td>\n",
       "      <td>4726</td>\n",
       "      <td>0.054765</td>\n",
       "      <td>HSB179</td>\n",
       "      <td>DG</td>\n",
       "      <td>DG GC PROX1 SGCZ</td>\n",
       "      <td>0</td>\n",
       "      <td>HSB179_1</td>\n",
       "      <td>Unknown</td>\n",
       "      <td>4726</td>\n",
       "      <td>...</td>\n",
       "      <td>HSB179_1_eDG</td>\n",
       "      <td>HSB179_1_eDG_AAAGGGCTCGCTGATA</td>\n",
       "      <td>HSB179_1_eDG_AAAGGGCTCGCTGATA-0</td>\n",
       "      <td>HSB179_1_eDG</td>\n",
       "      <td>8482</td>\n",
       "      <td>1909</td>\n",
       "      <td>1909.0</td>\n",
       "      <td>Glutamatergic neurons</td>\n",
       "      <td>5510.529785</td>\n",
       "      <td>0.101769</td>\n",
       "    </tr>\n",
       "    <tr>\n",
       "      <th>...</th>\n",
       "      <td>...</td>\n",
       "      <td>...</td>\n",
       "      <td>...</td>\n",
       "      <td>...</td>\n",
       "      <td>...</td>\n",
       "      <td>...</td>\n",
       "      <td>...</td>\n",
       "      <td>...</td>\n",
       "      <td>...</td>\n",
       "      <td>...</td>\n",
       "      <td>...</td>\n",
       "      <td>...</td>\n",
       "      <td>...</td>\n",
       "      <td>...</td>\n",
       "      <td>...</td>\n",
       "      <td>...</td>\n",
       "      <td>...</td>\n",
       "      <td>...</td>\n",
       "      <td>...</td>\n",
       "      <td>...</td>\n",
       "      <td>...</td>\n",
       "    </tr>\n",
       "    <tr>\n",
       "      <th>HSB628_1_EC_TTTCGATCAACCGTAT</th>\n",
       "      <td>6086</td>\n",
       "      <td>2664</td>\n",
       "      <td>0.509366</td>\n",
       "      <td>HSB628</td>\n",
       "      <td>EC</td>\n",
       "      <td>Astro AQP4 CHRDL1</td>\n",
       "      <td>24</td>\n",
       "      <td>HSB628_1</td>\n",
       "      <td>Unknown</td>\n",
       "      <td>2664</td>\n",
       "      <td>...</td>\n",
       "      <td>HSB628_1_EC</td>\n",
       "      <td>HSB628_1_EC_TTTCGATCAACCGTAT</td>\n",
       "      <td>HSB628_1_EC_TTTCGATCAACCGTAT-24</td>\n",
       "      <td>HSB628_1_EC</td>\n",
       "      <td>3329</td>\n",
       "      <td>1341</td>\n",
       "      <td>1341.0</td>\n",
       "      <td>Astrocytes</td>\n",
       "      <td>3267.042480</td>\n",
       "      <td>0.219885</td>\n",
       "    </tr>\n",
       "    <tr>\n",
       "      <th>HSB628_1_EC_TTTGACTTCGCCAACG</th>\n",
       "      <td>4595</td>\n",
       "      <td>2290</td>\n",
       "      <td>0.478781</td>\n",
       "      <td>HSB628</td>\n",
       "      <td>EC</td>\n",
       "      <td>Astro AQP4 CHRDL1</td>\n",
       "      <td>24</td>\n",
       "      <td>HSB628_1</td>\n",
       "      <td>Unknown</td>\n",
       "      <td>2290</td>\n",
       "      <td>...</td>\n",
       "      <td>HSB628_1_EC</td>\n",
       "      <td>HSB628_1_EC_TTTGACTTCGCCAACG</td>\n",
       "      <td>HSB628_1_EC_TTTGACTTCGCCAACG-24</td>\n",
       "      <td>HSB628_1_EC</td>\n",
       "      <td>2500</td>\n",
       "      <td>1122</td>\n",
       "      <td>1122.0</td>\n",
       "      <td>Astrocytes</td>\n",
       "      <td>2948.335449</td>\n",
       "      <td>0.186984</td>\n",
       "    </tr>\n",
       "    <tr>\n",
       "      <th>HSB628_1_EC_TTTGACTTCTTGGTGA</th>\n",
       "      <td>3253</td>\n",
       "      <td>1727</td>\n",
       "      <td>0.215186</td>\n",
       "      <td>HSB628</td>\n",
       "      <td>EC</td>\n",
       "      <td>Astro AQP4 CHRDL1</td>\n",
       "      <td>24</td>\n",
       "      <td>HSB628_1</td>\n",
       "      <td>Unknown</td>\n",
       "      <td>1727</td>\n",
       "      <td>...</td>\n",
       "      <td>HSB628_1_EC</td>\n",
       "      <td>HSB628_1_EC_TTTGACTTCTTGGTGA</td>\n",
       "      <td>HSB628_1_EC_TTTGACTTCTTGGTGA-24</td>\n",
       "      <td>HSB628_1_EC</td>\n",
       "      <td>1849</td>\n",
       "      <td>652</td>\n",
       "      <td>652.0</td>\n",
       "      <td>Astrocytes</td>\n",
       "      <td>3583.054932</td>\n",
       "      <td>0.292155</td>\n",
       "    </tr>\n",
       "    <tr>\n",
       "      <th>HSB628_1_EC_TTTGGAGAGTCGCCAC</th>\n",
       "      <td>2835</td>\n",
       "      <td>1540</td>\n",
       "      <td>0.176367</td>\n",
       "      <td>HSB628</td>\n",
       "      <td>EC</td>\n",
       "      <td>Astro AQP4 CHRDL1</td>\n",
       "      <td>24</td>\n",
       "      <td>HSB628_1</td>\n",
       "      <td>Unknown</td>\n",
       "      <td>1540</td>\n",
       "      <td>...</td>\n",
       "      <td>HSB628_1_EC</td>\n",
       "      <td>HSB628_1_EC_TTTGGAGAGTCGCCAC</td>\n",
       "      <td>HSB628_1_EC_TTTGGAGAGTCGCCAC-24</td>\n",
       "      <td>HSB628_1_EC</td>\n",
       "      <td>1494</td>\n",
       "      <td>653</td>\n",
       "      <td>653.0</td>\n",
       "      <td>Astrocytes</td>\n",
       "      <td>3126.052246</td>\n",
       "      <td>0.214915</td>\n",
       "    </tr>\n",
       "    <tr>\n",
       "      <th>HSB628_1_EC_TTTGGTTCAAAGGCAC</th>\n",
       "      <td>7155</td>\n",
       "      <td>3117</td>\n",
       "      <td>0.796646</td>\n",
       "      <td>HSB628</td>\n",
       "      <td>EC</td>\n",
       "      <td>Astro AQP4 CHRDL1</td>\n",
       "      <td>24</td>\n",
       "      <td>HSB628_1</td>\n",
       "      <td>Unknown</td>\n",
       "      <td>3117</td>\n",
       "      <td>...</td>\n",
       "      <td>HSB628_1_EC</td>\n",
       "      <td>HSB628_1_EC_TTTGGTTCAAAGGCAC</td>\n",
       "      <td>HSB628_1_EC_TTTGGTTCAAAGGCAC-24</td>\n",
       "      <td>HSB628_1_EC</td>\n",
       "      <td>3733</td>\n",
       "      <td>1786</td>\n",
       "      <td>1786.0</td>\n",
       "      <td>Astrocytes</td>\n",
       "      <td>2883.874512</td>\n",
       "      <td>0.215894</td>\n",
       "    </tr>\n",
       "  </tbody>\n",
       "</table>\n",
       "<p>49926 rows × 33 columns</p>\n",
       "</div>"
      ],
      "text/plain": [
       "                               nCount_RNA  nFeature_RNA  percent.mt  \\\n",
       "re_barcode                                                            \n",
       "HSB179_1_eDG_TCCTCTTGTCCTGTCT       60044          9053    0.011658   \n",
       "HSB179_1_eDG_AAACCCACATCTTAGG       20932          5326    0.014332   \n",
       "HSB179_1_eDG_AAAGGGCAGAGCCGTA       10724          4275    0.111899   \n",
       "HSB179_1_eDG_AAAGGGCGTGTGCCTG       13130          4622    0.015232   \n",
       "HSB179_1_eDG_AAAGGGCTCGCTGATA       14608          4726    0.054765   \n",
       "...                                   ...           ...         ...   \n",
       "HSB628_1_EC_TTTCGATCAACCGTAT         6086          2664    0.509366   \n",
       "HSB628_1_EC_TTTGACTTCGCCAACG         4595          2290    0.478781   \n",
       "HSB628_1_EC_TTTGACTTCTTGGTGA         3253          1727    0.215186   \n",
       "HSB628_1_EC_TTTGGAGAGTCGCCAC         2835          1540    0.176367   \n",
       "HSB628_1_EC_TTTGGTTCAAAGGCAC         7155          3117    0.796646   \n",
       "\n",
       "                              samplename region            cluster batch  \\\n",
       "re_barcode                                                                 \n",
       "HSB179_1_eDG_TCCTCTTGTCCTGTCT     HSB179     DG   CA3 CFAP299 SYN3     0   \n",
       "HSB179_1_eDG_AAACCCACATCTTAGG     HSB179     DG   DG GC PROX1 SGCZ     0   \n",
       "HSB179_1_eDG_AAAGGGCAGAGCCGTA     HSB179     DG   DG GC PROX1 SGCZ     0   \n",
       "HSB179_1_eDG_AAAGGGCGTGTGCCTG     HSB179     DG   DG GC PROX1 SGCZ     0   \n",
       "HSB179_1_eDG_AAAGGGCTCGCTGATA     HSB179     DG   DG GC PROX1 SGCZ     0   \n",
       "...                                  ...    ...                ...   ...   \n",
       "HSB628_1_EC_TTTCGATCAACCGTAT      HSB628     EC  Astro AQP4 CHRDL1    24   \n",
       "HSB628_1_EC_TTTGACTTCGCCAACG      HSB628     EC  Astro AQP4 CHRDL1    24   \n",
       "HSB628_1_EC_TTTGACTTCTTGGTGA      HSB628     EC  Astro AQP4 CHRDL1    24   \n",
       "HSB628_1_EC_TTTGGAGAGTCGCCAC      HSB628     EC  Astro AQP4 CHRDL1    24   \n",
       "HSB628_1_EC_TTTGGTTCAAAGGCAC      HSB628     EC  Astro AQP4 CHRDL1    24   \n",
       "\n",
       "                               sampleID cellType  n_genes_by_counts  ...  \\\n",
       "re_barcode                                                           ...   \n",
       "HSB179_1_eDG_TCCTCTTGTCCTGTCT  HSB179_1  Unknown               9053  ...   \n",
       "HSB179_1_eDG_AAACCCACATCTTAGG  HSB179_1  Unknown               5326  ...   \n",
       "HSB179_1_eDG_AAAGGGCAGAGCCGTA  HSB179_1  Unknown               4275  ...   \n",
       "HSB179_1_eDG_AAAGGGCGTGTGCCTG  HSB179_1  Unknown               4622  ...   \n",
       "HSB179_1_eDG_AAAGGGCTCGCTGATA  HSB179_1  Unknown               4726  ...   \n",
       "...                                 ...      ...                ...  ...   \n",
       "HSB628_1_EC_TTTCGATCAACCGTAT   HSB628_1  Unknown               2664  ...   \n",
       "HSB628_1_EC_TTTGACTTCGCCAACG   HSB628_1  Unknown               2290  ...   \n",
       "HSB628_1_EC_TTTGACTTCTTGGTGA   HSB628_1  Unknown               1727  ...   \n",
       "HSB628_1_EC_TTTGGAGAGTCGCCAC   HSB628_1  Unknown               1540  ...   \n",
       "HSB628_1_EC_TTTGGTTCAAAGGCAC   HSB628_1  Unknown               3117  ...   \n",
       "\n",
       "                                     sample                     re_barcode  \\\n",
       "re_barcode                                                                   \n",
       "HSB179_1_eDG_TCCTCTTGTCCTGTCT  HSB179_1_eDG  HSB179_1_eDG_TCCTCTTGTCCTGTCT   \n",
       "HSB179_1_eDG_AAACCCACATCTTAGG  HSB179_1_eDG  HSB179_1_eDG_AAACCCACATCTTAGG   \n",
       "HSB179_1_eDG_AAAGGGCAGAGCCGTA  HSB179_1_eDG  HSB179_1_eDG_AAAGGGCAGAGCCGTA   \n",
       "HSB179_1_eDG_AAAGGGCGTGTGCCTG  HSB179_1_eDG  HSB179_1_eDG_AAAGGGCGTGTGCCTG   \n",
       "HSB179_1_eDG_AAAGGGCTCGCTGATA  HSB179_1_eDG  HSB179_1_eDG_AAAGGGCTCGCTGATA   \n",
       "...                                     ...                            ...   \n",
       "HSB628_1_EC_TTTCGATCAACCGTAT    HSB628_1_EC   HSB628_1_EC_TTTCGATCAACCGTAT   \n",
       "HSB628_1_EC_TTTGACTTCGCCAACG    HSB628_1_EC   HSB628_1_EC_TTTGACTTCGCCAACG   \n",
       "HSB628_1_EC_TTTGACTTCTTGGTGA    HSB628_1_EC   HSB628_1_EC_TTTGACTTCTTGGTGA   \n",
       "HSB628_1_EC_TTTGGAGAGTCGCCAC    HSB628_1_EC   HSB628_1_EC_TTTGGAGAGTCGCCAC   \n",
       "HSB628_1_EC_TTTGGTTCAAAGGCAC    HSB628_1_EC   HSB628_1_EC_TTTGGTTCAAAGGCAC   \n",
       "\n",
       "                                                   ori_barcode     re_sample  \\\n",
       "re_barcode                                                                     \n",
       "HSB179_1_eDG_TCCTCTTGTCCTGTCT  HSB179_1_eDG_TCCTCTTGTCCTGTCT-0  HSB179_1_eDG   \n",
       "HSB179_1_eDG_AAACCCACATCTTAGG  HSB179_1_eDG_AAACCCACATCTTAGG-0  HSB179_1_eDG   \n",
       "HSB179_1_eDG_AAAGGGCAGAGCCGTA  HSB179_1_eDG_AAAGGGCAGAGCCGTA-0  HSB179_1_eDG   \n",
       "HSB179_1_eDG_AAAGGGCGTGTGCCTG  HSB179_1_eDG_AAAGGGCGTGTGCCTG-0  HSB179_1_eDG   \n",
       "HSB179_1_eDG_AAAGGGCTCGCTGATA  HSB179_1_eDG_AAAGGGCTCGCTGATA-0  HSB179_1_eDG   \n",
       "...                                                        ...           ...   \n",
       "HSB628_1_EC_TTTCGATCAACCGTAT   HSB628_1_EC_TTTCGATCAACCGTAT-24   HSB628_1_EC   \n",
       "HSB628_1_EC_TTTGACTTCGCCAACG   HSB628_1_EC_TTTGACTTCGCCAACG-24   HSB628_1_EC   \n",
       "HSB628_1_EC_TTTGACTTCTTGGTGA   HSB628_1_EC_TTTGACTTCTTGGTGA-24   HSB628_1_EC   \n",
       "HSB628_1_EC_TTTGGAGAGTCGCCAC   HSB628_1_EC_TTTGGAGAGTCGCCAC-24   HSB628_1_EC   \n",
       "HSB628_1_EC_TTTGGTTCAAAGGCAC   HSB628_1_EC_TTTGGTTCAAAGGCAC-24   HSB628_1_EC   \n",
       "\n",
       "                               initial_size_unspliced  initial_size_spliced  \\\n",
       "re_barcode                                                                    \n",
       "HSB179_1_eDG_TCCTCTTGTCCTGTCT                   38705                  6835   \n",
       "HSB179_1_eDG_AAACCCACATCTTAGG                   13227                  2351   \n",
       "HSB179_1_eDG_AAAGGGCAGAGCCGTA                    5484                  2232   \n",
       "HSB179_1_eDG_AAAGGGCGTGTGCCTG                    7674                  1593   \n",
       "HSB179_1_eDG_AAAGGGCTCGCTGATA                    8482                  1909   \n",
       "...                                               ...                   ...   \n",
       "HSB628_1_EC_TTTCGATCAACCGTAT                     3329                  1341   \n",
       "HSB628_1_EC_TTTGACTTCGCCAACG                     2500                  1122   \n",
       "HSB628_1_EC_TTTGACTTCTTGGTGA                     1849                   652   \n",
       "HSB628_1_EC_TTTGGAGAGTCGCCAC                     1494                   653   \n",
       "HSB628_1_EC_TTTGGTTCAAAGGCAC                     3733                  1786   \n",
       "\n",
       "                               initial_size                  state  \\\n",
       "re_barcode                                                           \n",
       "HSB179_1_eDG_TCCTCTTGTCCTGTCT        6835.0  Glutamatergic neurons   \n",
       "HSB179_1_eDG_AAACCCACATCTTAGG        2351.0  Glutamatergic neurons   \n",
       "HSB179_1_eDG_AAAGGGCAGAGCCGTA        2232.0  Glutamatergic neurons   \n",
       "HSB179_1_eDG_AAAGGGCGTGTGCCTG        1593.0  Glutamatergic neurons   \n",
       "HSB179_1_eDG_AAAGGGCTCGCTGATA        1909.0  Glutamatergic neurons   \n",
       "...                                     ...                    ...   \n",
       "HSB628_1_EC_TTTCGATCAACCGTAT         1341.0             Astrocytes   \n",
       "HSB628_1_EC_TTTGACTTCGCCAACG         1122.0             Astrocytes   \n",
       "HSB628_1_EC_TTTGACTTCTTGGTGA          652.0             Astrocytes   \n",
       "HSB628_1_EC_TTTGGAGAGTCGCCAC          653.0             Astrocytes   \n",
       "HSB628_1_EC_TTTGGTTCAAAGGCAC         1786.0             Astrocytes   \n",
       "\n",
       "                                  n_counts  velocity_self_transition  \n",
       "re_barcode                                                            \n",
       "HSB179_1_eDG_TCCTCTTGTCCTGTCT  6324.066895                  0.038825  \n",
       "HSB179_1_eDG_AAACCCACATCTTAGG  6417.919434                  0.085020  \n",
       "HSB179_1_eDG_AAAGGGCAGAGCCGTA  3458.978516                  0.067995  \n",
       "HSB179_1_eDG_AAAGGGCGTGTGCCTG  5928.196289                  0.091342  \n",
       "HSB179_1_eDG_AAAGGGCTCGCTGATA  5510.529785                  0.101769  \n",
       "...                                    ...                       ...  \n",
       "HSB628_1_EC_TTTCGATCAACCGTAT   3267.042480                  0.219885  \n",
       "HSB628_1_EC_TTTGACTTCGCCAACG   2948.335449                  0.186984  \n",
       "HSB628_1_EC_TTTGACTTCTTGGTGA   3583.054932                  0.292155  \n",
       "HSB628_1_EC_TTTGGAGAGTCGCCAC   3126.052246                  0.214915  \n",
       "HSB628_1_EC_TTTGGTTCAAAGGCAC   2883.874512                  0.215894  \n",
       "\n",
       "[49926 rows x 33 columns]"
      ]
     },
     "execution_count": 16,
     "metadata": {},
     "output_type": "execute_result"
    }
   ],
   "source": [
    "adata.obs"
   ]
  },
  {
   "cell_type": "code",
   "execution_count": 17,
   "id": "7d9d308c-a87e-4812-af6a-9e7624e333ad",
   "metadata": {},
   "outputs": [],
   "source": [
    "ad2=sc.read('data/results/hm3f1a_hip_integration_palantir_Franjic.h5ad')"
   ]
  },
  {
   "cell_type": "code",
   "execution_count": 20,
   "id": "a27a708b-e7be-4891-b138-c5f6264c8ddc",
   "metadata": {},
   "outputs": [],
   "source": [
    "ad2.obs=adata.o"
   ]
  },
  {
   "cell_type": "code",
   "execution_count": 21,
   "id": "d0cfcba2-36ca-4c5b-9f52-d6dc3e3a0704",
   "metadata": {},
   "outputs": [
    {
     "data": {
      "text/html": [
       "<div>\n",
       "<style scoped>\n",
       "    .dataframe tbody tr th:only-of-type {\n",
       "        vertical-align: middle;\n",
       "    }\n",
       "\n",
       "    .dataframe tbody tr th {\n",
       "        vertical-align: top;\n",
       "    }\n",
       "\n",
       "    .dataframe thead th {\n",
       "        text-align: right;\n",
       "    }\n",
       "</style>\n",
       "<table border=\"1\" class=\"dataframe\">\n",
       "  <thead>\n",
       "    <tr style=\"text-align: right;\">\n",
       "      <th></th>\n",
       "      <th>nCount_RNA</th>\n",
       "      <th>nFeature_RNA</th>\n",
       "      <th>percent.mt</th>\n",
       "      <th>samplename</th>\n",
       "      <th>region</th>\n",
       "      <th>cluster</th>\n",
       "      <th>batch</th>\n",
       "      <th>sampleID</th>\n",
       "      <th>cellType</th>\n",
       "      <th>n_genes_by_counts</th>\n",
       "      <th>...</th>\n",
       "      <th>sample</th>\n",
       "      <th>re_barcode</th>\n",
       "      <th>ori_barcode</th>\n",
       "      <th>re_sample</th>\n",
       "      <th>initial_size_unspliced</th>\n",
       "      <th>initial_size_spliced</th>\n",
       "      <th>initial_size</th>\n",
       "      <th>state</th>\n",
       "      <th>n_counts</th>\n",
       "      <th>velocity_self_transition</th>\n",
       "    </tr>\n",
       "    <tr>\n",
       "      <th>re_barcode</th>\n",
       "      <th></th>\n",
       "      <th></th>\n",
       "      <th></th>\n",
       "      <th></th>\n",
       "      <th></th>\n",
       "      <th></th>\n",
       "      <th></th>\n",
       "      <th></th>\n",
       "      <th></th>\n",
       "      <th></th>\n",
       "      <th></th>\n",
       "      <th></th>\n",
       "      <th></th>\n",
       "      <th></th>\n",
       "      <th></th>\n",
       "      <th></th>\n",
       "      <th></th>\n",
       "      <th></th>\n",
       "      <th></th>\n",
       "      <th></th>\n",
       "      <th></th>\n",
       "    </tr>\n",
       "  </thead>\n",
       "  <tbody>\n",
       "    <tr>\n",
       "      <th>HSB179_1_eDG_TCCTCTTGTCCTGTCT</th>\n",
       "      <td>60044</td>\n",
       "      <td>9053</td>\n",
       "      <td>0.011658</td>\n",
       "      <td>HSB179</td>\n",
       "      <td>DG</td>\n",
       "      <td>CA3 CFAP299 SYN3</td>\n",
       "      <td>0</td>\n",
       "      <td>HSB179_1</td>\n",
       "      <td>Unknown</td>\n",
       "      <td>9053</td>\n",
       "      <td>...</td>\n",
       "      <td>HSB179_1_eDG</td>\n",
       "      <td>HSB179_1_eDG_TCCTCTTGTCCTGTCT</td>\n",
       "      <td>HSB179_1_eDG_TCCTCTTGTCCTGTCT-0</td>\n",
       "      <td>HSB179_1_eDG</td>\n",
       "      <td>38705</td>\n",
       "      <td>6835</td>\n",
       "      <td>6835.0</td>\n",
       "      <td>Glutamatergic neurons</td>\n",
       "      <td>6324.066895</td>\n",
       "      <td>0.038825</td>\n",
       "    </tr>\n",
       "    <tr>\n",
       "      <th>HSB179_1_eDG_AAACCCACATCTTAGG</th>\n",
       "      <td>20932</td>\n",
       "      <td>5326</td>\n",
       "      <td>0.014332</td>\n",
       "      <td>HSB179</td>\n",
       "      <td>DG</td>\n",
       "      <td>DG GC PROX1 SGCZ</td>\n",
       "      <td>0</td>\n",
       "      <td>HSB179_1</td>\n",
       "      <td>Unknown</td>\n",
       "      <td>5326</td>\n",
       "      <td>...</td>\n",
       "      <td>HSB179_1_eDG</td>\n",
       "      <td>HSB179_1_eDG_AAACCCACATCTTAGG</td>\n",
       "      <td>HSB179_1_eDG_AAACCCACATCTTAGG-0</td>\n",
       "      <td>HSB179_1_eDG</td>\n",
       "      <td>13227</td>\n",
       "      <td>2351</td>\n",
       "      <td>2351.0</td>\n",
       "      <td>Glutamatergic neurons</td>\n",
       "      <td>6417.919434</td>\n",
       "      <td>0.085020</td>\n",
       "    </tr>\n",
       "    <tr>\n",
       "      <th>HSB179_1_eDG_AAAGGGCAGAGCCGTA</th>\n",
       "      <td>10724</td>\n",
       "      <td>4275</td>\n",
       "      <td>0.111899</td>\n",
       "      <td>HSB179</td>\n",
       "      <td>DG</td>\n",
       "      <td>DG GC PROX1 SGCZ</td>\n",
       "      <td>0</td>\n",
       "      <td>HSB179_1</td>\n",
       "      <td>Unknown</td>\n",
       "      <td>4275</td>\n",
       "      <td>...</td>\n",
       "      <td>HSB179_1_eDG</td>\n",
       "      <td>HSB179_1_eDG_AAAGGGCAGAGCCGTA</td>\n",
       "      <td>HSB179_1_eDG_AAAGGGCAGAGCCGTA-0</td>\n",
       "      <td>HSB179_1_eDG</td>\n",
       "      <td>5484</td>\n",
       "      <td>2232</td>\n",
       "      <td>2232.0</td>\n",
       "      <td>Glutamatergic neurons</td>\n",
       "      <td>3458.978516</td>\n",
       "      <td>0.067995</td>\n",
       "    </tr>\n",
       "    <tr>\n",
       "      <th>HSB179_1_eDG_AAAGGGCGTGTGCCTG</th>\n",
       "      <td>13130</td>\n",
       "      <td>4622</td>\n",
       "      <td>0.015232</td>\n",
       "      <td>HSB179</td>\n",
       "      <td>DG</td>\n",
       "      <td>DG GC PROX1 SGCZ</td>\n",
       "      <td>0</td>\n",
       "      <td>HSB179_1</td>\n",
       "      <td>Unknown</td>\n",
       "      <td>4622</td>\n",
       "      <td>...</td>\n",
       "      <td>HSB179_1_eDG</td>\n",
       "      <td>HSB179_1_eDG_AAAGGGCGTGTGCCTG</td>\n",
       "      <td>HSB179_1_eDG_AAAGGGCGTGTGCCTG-0</td>\n",
       "      <td>HSB179_1_eDG</td>\n",
       "      <td>7674</td>\n",
       "      <td>1593</td>\n",
       "      <td>1593.0</td>\n",
       "      <td>Glutamatergic neurons</td>\n",
       "      <td>5928.196289</td>\n",
       "      <td>0.091342</td>\n",
       "    </tr>\n",
       "    <tr>\n",
       "      <th>HSB179_1_eDG_AAAGGGCTCGCTGATA</th>\n",
       "      <td>14608</td>\n",
       "      <td>4726</td>\n",
       "      <td>0.054765</td>\n",
       "      <td>HSB179</td>\n",
       "      <td>DG</td>\n",
       "      <td>DG GC PROX1 SGCZ</td>\n",
       "      <td>0</td>\n",
       "      <td>HSB179_1</td>\n",
       "      <td>Unknown</td>\n",
       "      <td>4726</td>\n",
       "      <td>...</td>\n",
       "      <td>HSB179_1_eDG</td>\n",
       "      <td>HSB179_1_eDG_AAAGGGCTCGCTGATA</td>\n",
       "      <td>HSB179_1_eDG_AAAGGGCTCGCTGATA-0</td>\n",
       "      <td>HSB179_1_eDG</td>\n",
       "      <td>8482</td>\n",
       "      <td>1909</td>\n",
       "      <td>1909.0</td>\n",
       "      <td>Glutamatergic neurons</td>\n",
       "      <td>5510.529785</td>\n",
       "      <td>0.101769</td>\n",
       "    </tr>\n",
       "    <tr>\n",
       "      <th>...</th>\n",
       "      <td>...</td>\n",
       "      <td>...</td>\n",
       "      <td>...</td>\n",
       "      <td>...</td>\n",
       "      <td>...</td>\n",
       "      <td>...</td>\n",
       "      <td>...</td>\n",
       "      <td>...</td>\n",
       "      <td>...</td>\n",
       "      <td>...</td>\n",
       "      <td>...</td>\n",
       "      <td>...</td>\n",
       "      <td>...</td>\n",
       "      <td>...</td>\n",
       "      <td>...</td>\n",
       "      <td>...</td>\n",
       "      <td>...</td>\n",
       "      <td>...</td>\n",
       "      <td>...</td>\n",
       "      <td>...</td>\n",
       "      <td>...</td>\n",
       "    </tr>\n",
       "    <tr>\n",
       "      <th>HSB628_1_EC_TTTCGATCAACCGTAT</th>\n",
       "      <td>6086</td>\n",
       "      <td>2664</td>\n",
       "      <td>0.509366</td>\n",
       "      <td>HSB628</td>\n",
       "      <td>EC</td>\n",
       "      <td>Astro AQP4 CHRDL1</td>\n",
       "      <td>24</td>\n",
       "      <td>HSB628_1</td>\n",
       "      <td>Unknown</td>\n",
       "      <td>2664</td>\n",
       "      <td>...</td>\n",
       "      <td>HSB628_1_EC</td>\n",
       "      <td>HSB628_1_EC_TTTCGATCAACCGTAT</td>\n",
       "      <td>HSB628_1_EC_TTTCGATCAACCGTAT-24</td>\n",
       "      <td>HSB628_1_EC</td>\n",
       "      <td>3329</td>\n",
       "      <td>1341</td>\n",
       "      <td>1341.0</td>\n",
       "      <td>Astrocytes</td>\n",
       "      <td>3267.042480</td>\n",
       "      <td>0.219885</td>\n",
       "    </tr>\n",
       "    <tr>\n",
       "      <th>HSB628_1_EC_TTTGACTTCGCCAACG</th>\n",
       "      <td>4595</td>\n",
       "      <td>2290</td>\n",
       "      <td>0.478781</td>\n",
       "      <td>HSB628</td>\n",
       "      <td>EC</td>\n",
       "      <td>Astro AQP4 CHRDL1</td>\n",
       "      <td>24</td>\n",
       "      <td>HSB628_1</td>\n",
       "      <td>Unknown</td>\n",
       "      <td>2290</td>\n",
       "      <td>...</td>\n",
       "      <td>HSB628_1_EC</td>\n",
       "      <td>HSB628_1_EC_TTTGACTTCGCCAACG</td>\n",
       "      <td>HSB628_1_EC_TTTGACTTCGCCAACG-24</td>\n",
       "      <td>HSB628_1_EC</td>\n",
       "      <td>2500</td>\n",
       "      <td>1122</td>\n",
       "      <td>1122.0</td>\n",
       "      <td>Astrocytes</td>\n",
       "      <td>2948.335449</td>\n",
       "      <td>0.186984</td>\n",
       "    </tr>\n",
       "    <tr>\n",
       "      <th>HSB628_1_EC_TTTGACTTCTTGGTGA</th>\n",
       "      <td>3253</td>\n",
       "      <td>1727</td>\n",
       "      <td>0.215186</td>\n",
       "      <td>HSB628</td>\n",
       "      <td>EC</td>\n",
       "      <td>Astro AQP4 CHRDL1</td>\n",
       "      <td>24</td>\n",
       "      <td>HSB628_1</td>\n",
       "      <td>Unknown</td>\n",
       "      <td>1727</td>\n",
       "      <td>...</td>\n",
       "      <td>HSB628_1_EC</td>\n",
       "      <td>HSB628_1_EC_TTTGACTTCTTGGTGA</td>\n",
       "      <td>HSB628_1_EC_TTTGACTTCTTGGTGA-24</td>\n",
       "      <td>HSB628_1_EC</td>\n",
       "      <td>1849</td>\n",
       "      <td>652</td>\n",
       "      <td>652.0</td>\n",
       "      <td>Astrocytes</td>\n",
       "      <td>3583.054932</td>\n",
       "      <td>0.292155</td>\n",
       "    </tr>\n",
       "    <tr>\n",
       "      <th>HSB628_1_EC_TTTGGAGAGTCGCCAC</th>\n",
       "      <td>2835</td>\n",
       "      <td>1540</td>\n",
       "      <td>0.176367</td>\n",
       "      <td>HSB628</td>\n",
       "      <td>EC</td>\n",
       "      <td>Astro AQP4 CHRDL1</td>\n",
       "      <td>24</td>\n",
       "      <td>HSB628_1</td>\n",
       "      <td>Unknown</td>\n",
       "      <td>1540</td>\n",
       "      <td>...</td>\n",
       "      <td>HSB628_1_EC</td>\n",
       "      <td>HSB628_1_EC_TTTGGAGAGTCGCCAC</td>\n",
       "      <td>HSB628_1_EC_TTTGGAGAGTCGCCAC-24</td>\n",
       "      <td>HSB628_1_EC</td>\n",
       "      <td>1494</td>\n",
       "      <td>653</td>\n",
       "      <td>653.0</td>\n",
       "      <td>Astrocytes</td>\n",
       "      <td>3126.052246</td>\n",
       "      <td>0.214915</td>\n",
       "    </tr>\n",
       "    <tr>\n",
       "      <th>HSB628_1_EC_TTTGGTTCAAAGGCAC</th>\n",
       "      <td>7155</td>\n",
       "      <td>3117</td>\n",
       "      <td>0.796646</td>\n",
       "      <td>HSB628</td>\n",
       "      <td>EC</td>\n",
       "      <td>Astro AQP4 CHRDL1</td>\n",
       "      <td>24</td>\n",
       "      <td>HSB628_1</td>\n",
       "      <td>Unknown</td>\n",
       "      <td>3117</td>\n",
       "      <td>...</td>\n",
       "      <td>HSB628_1_EC</td>\n",
       "      <td>HSB628_1_EC_TTTGGTTCAAAGGCAC</td>\n",
       "      <td>HSB628_1_EC_TTTGGTTCAAAGGCAC-24</td>\n",
       "      <td>HSB628_1_EC</td>\n",
       "      <td>3733</td>\n",
       "      <td>1786</td>\n",
       "      <td>1786.0</td>\n",
       "      <td>Astrocytes</td>\n",
       "      <td>2883.874512</td>\n",
       "      <td>0.215894</td>\n",
       "    </tr>\n",
       "  </tbody>\n",
       "</table>\n",
       "<p>49926 rows × 33 columns</p>\n",
       "</div>"
      ],
      "text/plain": [
       "                               nCount_RNA  nFeature_RNA  percent.mt  \\\n",
       "re_barcode                                                            \n",
       "HSB179_1_eDG_TCCTCTTGTCCTGTCT       60044          9053    0.011658   \n",
       "HSB179_1_eDG_AAACCCACATCTTAGG       20932          5326    0.014332   \n",
       "HSB179_1_eDG_AAAGGGCAGAGCCGTA       10724          4275    0.111899   \n",
       "HSB179_1_eDG_AAAGGGCGTGTGCCTG       13130          4622    0.015232   \n",
       "HSB179_1_eDG_AAAGGGCTCGCTGATA       14608          4726    0.054765   \n",
       "...                                   ...           ...         ...   \n",
       "HSB628_1_EC_TTTCGATCAACCGTAT         6086          2664    0.509366   \n",
       "HSB628_1_EC_TTTGACTTCGCCAACG         4595          2290    0.478781   \n",
       "HSB628_1_EC_TTTGACTTCTTGGTGA         3253          1727    0.215186   \n",
       "HSB628_1_EC_TTTGGAGAGTCGCCAC         2835          1540    0.176367   \n",
       "HSB628_1_EC_TTTGGTTCAAAGGCAC         7155          3117    0.796646   \n",
       "\n",
       "                              samplename region            cluster batch  \\\n",
       "re_barcode                                                                 \n",
       "HSB179_1_eDG_TCCTCTTGTCCTGTCT     HSB179     DG   CA3 CFAP299 SYN3     0   \n",
       "HSB179_1_eDG_AAACCCACATCTTAGG     HSB179     DG   DG GC PROX1 SGCZ     0   \n",
       "HSB179_1_eDG_AAAGGGCAGAGCCGTA     HSB179     DG   DG GC PROX1 SGCZ     0   \n",
       "HSB179_1_eDG_AAAGGGCGTGTGCCTG     HSB179     DG   DG GC PROX1 SGCZ     0   \n",
       "HSB179_1_eDG_AAAGGGCTCGCTGATA     HSB179     DG   DG GC PROX1 SGCZ     0   \n",
       "...                                  ...    ...                ...   ...   \n",
       "HSB628_1_EC_TTTCGATCAACCGTAT      HSB628     EC  Astro AQP4 CHRDL1    24   \n",
       "HSB628_1_EC_TTTGACTTCGCCAACG      HSB628     EC  Astro AQP4 CHRDL1    24   \n",
       "HSB628_1_EC_TTTGACTTCTTGGTGA      HSB628     EC  Astro AQP4 CHRDL1    24   \n",
       "HSB628_1_EC_TTTGGAGAGTCGCCAC      HSB628     EC  Astro AQP4 CHRDL1    24   \n",
       "HSB628_1_EC_TTTGGTTCAAAGGCAC      HSB628     EC  Astro AQP4 CHRDL1    24   \n",
       "\n",
       "                               sampleID cellType  n_genes_by_counts  ...  \\\n",
       "re_barcode                                                           ...   \n",
       "HSB179_1_eDG_TCCTCTTGTCCTGTCT  HSB179_1  Unknown               9053  ...   \n",
       "HSB179_1_eDG_AAACCCACATCTTAGG  HSB179_1  Unknown               5326  ...   \n",
       "HSB179_1_eDG_AAAGGGCAGAGCCGTA  HSB179_1  Unknown               4275  ...   \n",
       "HSB179_1_eDG_AAAGGGCGTGTGCCTG  HSB179_1  Unknown               4622  ...   \n",
       "HSB179_1_eDG_AAAGGGCTCGCTGATA  HSB179_1  Unknown               4726  ...   \n",
       "...                                 ...      ...                ...  ...   \n",
       "HSB628_1_EC_TTTCGATCAACCGTAT   HSB628_1  Unknown               2664  ...   \n",
       "HSB628_1_EC_TTTGACTTCGCCAACG   HSB628_1  Unknown               2290  ...   \n",
       "HSB628_1_EC_TTTGACTTCTTGGTGA   HSB628_1  Unknown               1727  ...   \n",
       "HSB628_1_EC_TTTGGAGAGTCGCCAC   HSB628_1  Unknown               1540  ...   \n",
       "HSB628_1_EC_TTTGGTTCAAAGGCAC   HSB628_1  Unknown               3117  ...   \n",
       "\n",
       "                                     sample                     re_barcode  \\\n",
       "re_barcode                                                                   \n",
       "HSB179_1_eDG_TCCTCTTGTCCTGTCT  HSB179_1_eDG  HSB179_1_eDG_TCCTCTTGTCCTGTCT   \n",
       "HSB179_1_eDG_AAACCCACATCTTAGG  HSB179_1_eDG  HSB179_1_eDG_AAACCCACATCTTAGG   \n",
       "HSB179_1_eDG_AAAGGGCAGAGCCGTA  HSB179_1_eDG  HSB179_1_eDG_AAAGGGCAGAGCCGTA   \n",
       "HSB179_1_eDG_AAAGGGCGTGTGCCTG  HSB179_1_eDG  HSB179_1_eDG_AAAGGGCGTGTGCCTG   \n",
       "HSB179_1_eDG_AAAGGGCTCGCTGATA  HSB179_1_eDG  HSB179_1_eDG_AAAGGGCTCGCTGATA   \n",
       "...                                     ...                            ...   \n",
       "HSB628_1_EC_TTTCGATCAACCGTAT    HSB628_1_EC   HSB628_1_EC_TTTCGATCAACCGTAT   \n",
       "HSB628_1_EC_TTTGACTTCGCCAACG    HSB628_1_EC   HSB628_1_EC_TTTGACTTCGCCAACG   \n",
       "HSB628_1_EC_TTTGACTTCTTGGTGA    HSB628_1_EC   HSB628_1_EC_TTTGACTTCTTGGTGA   \n",
       "HSB628_1_EC_TTTGGAGAGTCGCCAC    HSB628_1_EC   HSB628_1_EC_TTTGGAGAGTCGCCAC   \n",
       "HSB628_1_EC_TTTGGTTCAAAGGCAC    HSB628_1_EC   HSB628_1_EC_TTTGGTTCAAAGGCAC   \n",
       "\n",
       "                                                   ori_barcode     re_sample  \\\n",
       "re_barcode                                                                     \n",
       "HSB179_1_eDG_TCCTCTTGTCCTGTCT  HSB179_1_eDG_TCCTCTTGTCCTGTCT-0  HSB179_1_eDG   \n",
       "HSB179_1_eDG_AAACCCACATCTTAGG  HSB179_1_eDG_AAACCCACATCTTAGG-0  HSB179_1_eDG   \n",
       "HSB179_1_eDG_AAAGGGCAGAGCCGTA  HSB179_1_eDG_AAAGGGCAGAGCCGTA-0  HSB179_1_eDG   \n",
       "HSB179_1_eDG_AAAGGGCGTGTGCCTG  HSB179_1_eDG_AAAGGGCGTGTGCCTG-0  HSB179_1_eDG   \n",
       "HSB179_1_eDG_AAAGGGCTCGCTGATA  HSB179_1_eDG_AAAGGGCTCGCTGATA-0  HSB179_1_eDG   \n",
       "...                                                        ...           ...   \n",
       "HSB628_1_EC_TTTCGATCAACCGTAT   HSB628_1_EC_TTTCGATCAACCGTAT-24   HSB628_1_EC   \n",
       "HSB628_1_EC_TTTGACTTCGCCAACG   HSB628_1_EC_TTTGACTTCGCCAACG-24   HSB628_1_EC   \n",
       "HSB628_1_EC_TTTGACTTCTTGGTGA   HSB628_1_EC_TTTGACTTCTTGGTGA-24   HSB628_1_EC   \n",
       "HSB628_1_EC_TTTGGAGAGTCGCCAC   HSB628_1_EC_TTTGGAGAGTCGCCAC-24   HSB628_1_EC   \n",
       "HSB628_1_EC_TTTGGTTCAAAGGCAC   HSB628_1_EC_TTTGGTTCAAAGGCAC-24   HSB628_1_EC   \n",
       "\n",
       "                               initial_size_unspliced  initial_size_spliced  \\\n",
       "re_barcode                                                                    \n",
       "HSB179_1_eDG_TCCTCTTGTCCTGTCT                   38705                  6835   \n",
       "HSB179_1_eDG_AAACCCACATCTTAGG                   13227                  2351   \n",
       "HSB179_1_eDG_AAAGGGCAGAGCCGTA                    5484                  2232   \n",
       "HSB179_1_eDG_AAAGGGCGTGTGCCTG                    7674                  1593   \n",
       "HSB179_1_eDG_AAAGGGCTCGCTGATA                    8482                  1909   \n",
       "...                                               ...                   ...   \n",
       "HSB628_1_EC_TTTCGATCAACCGTAT                     3329                  1341   \n",
       "HSB628_1_EC_TTTGACTTCGCCAACG                     2500                  1122   \n",
       "HSB628_1_EC_TTTGACTTCTTGGTGA                     1849                   652   \n",
       "HSB628_1_EC_TTTGGAGAGTCGCCAC                     1494                   653   \n",
       "HSB628_1_EC_TTTGGTTCAAAGGCAC                     3733                  1786   \n",
       "\n",
       "                               initial_size                  state  \\\n",
       "re_barcode                                                           \n",
       "HSB179_1_eDG_TCCTCTTGTCCTGTCT        6835.0  Glutamatergic neurons   \n",
       "HSB179_1_eDG_AAACCCACATCTTAGG        2351.0  Glutamatergic neurons   \n",
       "HSB179_1_eDG_AAAGGGCAGAGCCGTA        2232.0  Glutamatergic neurons   \n",
       "HSB179_1_eDG_AAAGGGCGTGTGCCTG        1593.0  Glutamatergic neurons   \n",
       "HSB179_1_eDG_AAAGGGCTCGCTGATA        1909.0  Glutamatergic neurons   \n",
       "...                                     ...                    ...   \n",
       "HSB628_1_EC_TTTCGATCAACCGTAT         1341.0             Astrocytes   \n",
       "HSB628_1_EC_TTTGACTTCGCCAACG         1122.0             Astrocytes   \n",
       "HSB628_1_EC_TTTGACTTCTTGGTGA          652.0             Astrocytes   \n",
       "HSB628_1_EC_TTTGGAGAGTCGCCAC          653.0             Astrocytes   \n",
       "HSB628_1_EC_TTTGGTTCAAAGGCAC         1786.0             Astrocytes   \n",
       "\n",
       "                                  n_counts  velocity_self_transition  \n",
       "re_barcode                                                            \n",
       "HSB179_1_eDG_TCCTCTTGTCCTGTCT  6324.066895                  0.038825  \n",
       "HSB179_1_eDG_AAACCCACATCTTAGG  6417.919434                  0.085020  \n",
       "HSB179_1_eDG_AAAGGGCAGAGCCGTA  3458.978516                  0.067995  \n",
       "HSB179_1_eDG_AAAGGGCGTGTGCCTG  5928.196289                  0.091342  \n",
       "HSB179_1_eDG_AAAGGGCTCGCTGATA  5510.529785                  0.101769  \n",
       "...                                    ...                       ...  \n",
       "HSB628_1_EC_TTTCGATCAACCGTAT   3267.042480                  0.219885  \n",
       "HSB628_1_EC_TTTGACTTCGCCAACG   2948.335449                  0.186984  \n",
       "HSB628_1_EC_TTTGACTTCTTGGTGA   3583.054932                  0.292155  \n",
       "HSB628_1_EC_TTTGGAGAGTCGCCAC   3126.052246                  0.214915  \n",
       "HSB628_1_EC_TTTGGTTCAAAGGCAC   2883.874512                  0.215894  \n",
       "\n",
       "[49926 rows x 33 columns]"
      ]
     },
     "execution_count": 21,
     "metadata": {},
     "output_type": "execute_result"
    }
   ],
   "source": [
    "ad2.obs"
   ]
  },
  {
   "cell_type": "code",
   "execution_count": 23,
   "id": "aa4ef9b3-6bcc-42b5-9bd8-7dcefc1f55ff",
   "metadata": {},
   "outputs": [],
   "source": [
    "genes=['MKI67','TOP2A','HMGB2','PBK','UBE2C','RRM2','CDCA3','CCNA2','FAM64A','TPX2']\n",
    "genes = [i for i in genes if i in ad2.var_names]"
   ]
  },
  {
   "cell_type": "code",
   "execution_count": 24,
   "id": "e344ec1e-58e1-4539-9c26-b69a4d787393",
   "metadata": {},
   "outputs": [
    {
     "data": {
      "image/png": "[encoded data removed]",
      "text/plain": [
       "<Figure size 327.2x332 with 4 Axes>"
      ]
     },
     "metadata": {
      "image/png": {
       "height": 425,
       "width": 338
      },
      "needs_background": "light"
     },
     "output_type": "display_data"
    }
   ],
   "source": [
    "sc.pl.dotplot(ad2,genes,'state',swap_axes=True)"
   ]
  },
  {
   "cell_type": "code",
   "execution_count": null,
   "id": "8c536542-df5d-49e9-9e6a-e0302b4f69a5",
   "metadata": {},
   "outputs": [],
   "source": []
  }
 ],
 "metadata": {
  "kernelspec": {
   "display_name": "Python [conda env:sc]",
   "language": "python",
   "name": "conda-env-sc-py"
  },
  "language_info": {
   "codemirror_mode": {
    "name": "ipython",
    "version": 3
   },
   "file_extension": ".py",
   "mimetype": "text/x-python",
   "name": "python",
   "nbconvert_exporter": "python",
   "pygments_lexer": "ipython3",
   "version": "3.9.13"
  }
 },
 "nbformat": 4,
 "nbformat_minor": 5
}
